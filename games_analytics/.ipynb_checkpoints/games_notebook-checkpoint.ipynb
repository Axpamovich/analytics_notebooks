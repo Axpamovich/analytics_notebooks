{
 "cells": [
  {
   "cell_type": "markdown",
   "metadata": {},
   "source": [
    "# Аналитика по продажам компьютерных игр\n",
    "\n",
    "\n",
    "Задачи работы: проанализировать накопленные данные о оффлайн и онлайн продажах игр в разные года, определить портрет пользователя и проверить статистические гипотезы.\n",
    "\n",
    "\n",
    "1. [Предобработка данных](#1)\n",
    "2. [Анализ данных](#2)\n",
    "3. [Портрет пользователя](#3)\n",
    "4. [Проверка гипотез](#4)"
   ]
  },
  {
   "cell_type": "code",
   "execution_count": 4,
   "metadata": {},
   "outputs": [],
   "source": [
    "#импорт библиотек\n",
    "import pandas as pd\n",
    "import matplotlib.pyplot as plt\n",
    "import numpy as np\n",
    "from scipy import stats as st\n",
    "#показывать все колонки\n",
    "pd.set_option('display.max_columns', 50)\n",
    "pd.set_option('display.float_format', lambda x: '%.2f' % x)\n",
    "import seaborn as sns\n",
    "sns.set_style('darkgrid')"
   ]
  },
  {
   "cell_type": "code",
   "execution_count": 5,
   "metadata": {},
   "outputs": [],
   "source": [
    "#импорт данных в формате csv, с кодировкой utf-8\n",
    "data_games = pd.read_csv('./games_data.csv', encoding = 'utf-8')\n",
    "data_rating = pd.read_csv('./rating.csv', encoding = 'utf-8')"
   ]
  },
  {
   "cell_type": "markdown",
   "metadata": {},
   "source": [
    "# Предобработка данных <a name=\"1\"></a>"
   ]
  },
  {
   "cell_type": "code",
   "execution_count": 6,
   "metadata": {},
   "outputs": [
    {
     "data": {
      "text/html": [
       "<div>\n",
       "<style scoped>\n",
       "    .dataframe tbody tr th:only-of-type {\n",
       "        vertical-align: middle;\n",
       "    }\n",
       "\n",
       "    .dataframe tbody tr th {\n",
       "        vertical-align: top;\n",
       "    }\n",
       "\n",
       "    .dataframe thead th {\n",
       "        text-align: right;\n",
       "    }\n",
       "</style>\n",
       "<table border=\"1\" class=\"dataframe\">\n",
       "  <thead>\n",
       "    <tr style=\"text-align: right;\">\n",
       "      <th></th>\n",
       "      <th>rating_type</th>\n",
       "      <th>decryption</th>\n",
       "    </tr>\n",
       "  </thead>\n",
       "  <tbody>\n",
       "    <tr>\n",
       "      <th>0</th>\n",
       "      <td>E</td>\n",
       "      <td>Для всех</td>\n",
       "    </tr>\n",
       "    <tr>\n",
       "      <th>1</th>\n",
       "      <td>M</td>\n",
       "      <td>От 17 лет</td>\n",
       "    </tr>\n",
       "    <tr>\n",
       "      <th>2</th>\n",
       "      <td>T</td>\n",
       "      <td>Подросткам 13—19 лет</td>\n",
       "    </tr>\n",
       "    <tr>\n",
       "      <th>3</th>\n",
       "      <td>E10+</td>\n",
       "      <td>Для всех старше 10 лет</td>\n",
       "    </tr>\n",
       "    <tr>\n",
       "      <th>4</th>\n",
       "      <td>K-A</td>\n",
       "      <td>Для всех(до 1998 года)</td>\n",
       "    </tr>\n",
       "    <tr>\n",
       "      <th>5</th>\n",
       "      <td>AO</td>\n",
       "      <td>Только для взрослых</td>\n",
       "    </tr>\n",
       "    <tr>\n",
       "      <th>6</th>\n",
       "      <td>EC</td>\n",
       "      <td>Для детей младшего возраста</td>\n",
       "    </tr>\n",
       "    <tr>\n",
       "      <th>7</th>\n",
       "      <td>RP</td>\n",
       "      <td>Рейтинг ожидается</td>\n",
       "    </tr>\n",
       "  </tbody>\n",
       "</table>\n",
       "</div>"
      ],
      "text/plain": [
       "  rating_type                   decryption\n",
       "0           E                     Для всех\n",
       "1           M                    От 17 лет\n",
       "2           T         Подросткам 13—19 лет\n",
       "3        E10+       Для всех старше 10 лет\n",
       "4         K-A       Для всех(до 1998 года)\n",
       "5          AO          Только для взрослых\n",
       "6          EC  Для детей младшего возраста\n",
       "7          RP            Рейтинг ожидается"
      ]
     },
     "execution_count": 6,
     "metadata": {},
     "output_type": "execute_result"
    }
   ],
   "source": [
    "data_rating"
   ]
  },
  {
   "cell_type": "code",
   "execution_count": 7,
   "metadata": {},
   "outputs": [
    {
     "data": {
      "text/html": [
       "<div>\n",
       "<style scoped>\n",
       "    .dataframe tbody tr th:only-of-type {\n",
       "        vertical-align: middle;\n",
       "    }\n",
       "\n",
       "    .dataframe tbody tr th {\n",
       "        vertical-align: top;\n",
       "    }\n",
       "\n",
       "    .dataframe thead th {\n",
       "        text-align: right;\n",
       "    }\n",
       "</style>\n",
       "<table border=\"1\" class=\"dataframe\">\n",
       "  <thead>\n",
       "    <tr style=\"text-align: right;\">\n",
       "      <th></th>\n",
       "      <th>platform</th>\n",
       "      <th>sales_year</th>\n",
       "      <th>genre</th>\n",
       "      <th>online</th>\n",
       "      <th>offline</th>\n",
       "      <th>critic_score</th>\n",
       "      <th>user_score</th>\n",
       "      <th>rating</th>\n",
       "      <th>game_id</th>\n",
       "    </tr>\n",
       "  </thead>\n",
       "  <tbody>\n",
       "    <tr>\n",
       "      <th>0</th>\n",
       "      <td>PS3</td>\n",
       "      <td>2017.00</td>\n",
       "      <td>Action</td>\n",
       "      <td>702.00</td>\n",
       "      <td>909.00</td>\n",
       "      <td>97.00</td>\n",
       "      <td>8.2</td>\n",
       "      <td>M</td>\n",
       "      <td>20838</td>\n",
       "    </tr>\n",
       "    <tr>\n",
       "      <th>1</th>\n",
       "      <td>X360</td>\n",
       "      <td>2017.00</td>\n",
       "      <td>Action</td>\n",
       "      <td>966.00</td>\n",
       "      <td>514.00</td>\n",
       "      <td>97.00</td>\n",
       "      <td>8.1</td>\n",
       "      <td>M</td>\n",
       "      <td>48673</td>\n",
       "    </tr>\n",
       "    <tr>\n",
       "      <th>2</th>\n",
       "      <td>X360</td>\n",
       "      <td>2017.00</td>\n",
       "      <td>Shooter</td>\n",
       "      <td>904.00</td>\n",
       "      <td>424.00</td>\n",
       "      <td>88.00</td>\n",
       "      <td>3.4</td>\n",
       "      <td>M</td>\n",
       "      <td>17801</td>\n",
       "    </tr>\n",
       "    <tr>\n",
       "      <th>3</th>\n",
       "      <td>PS4</td>\n",
       "      <td>2015.00</td>\n",
       "      <td>Shooter</td>\n",
       "      <td>603.00</td>\n",
       "      <td>586.00</td>\n",
       "      <td>nan</td>\n",
       "      <td>NaN</td>\n",
       "      <td>NaN</td>\n",
       "      <td>12200</td>\n",
       "    </tr>\n",
       "    <tr>\n",
       "      <th>4</th>\n",
       "      <td>3DS</td>\n",
       "      <td>2017.00</td>\n",
       "      <td>Role-Playing</td>\n",
       "      <td>528.00</td>\n",
       "      <td>419.00</td>\n",
       "      <td>nan</td>\n",
       "      <td>NaN</td>\n",
       "      <td>NaN</td>\n",
       "      <td>11432</td>\n",
       "    </tr>\n",
       "  </tbody>\n",
       "</table>\n",
       "</div>"
      ],
      "text/plain": [
       "  platform  sales_year         genre  online  offline  critic_score  \\\n",
       "0      PS3     2017.00        Action  702.00   909.00         97.00   \n",
       "1     X360     2017.00        Action  966.00   514.00         97.00   \n",
       "2     X360     2017.00       Shooter  904.00   424.00         88.00   \n",
       "3      PS4     2015.00       Shooter  603.00   586.00           nan   \n",
       "4      3DS     2017.00  Role-Playing  528.00   419.00           nan   \n",
       "\n",
       "  user_score rating  game_id  \n",
       "0        8.2      M    20838  \n",
       "1        8.1      M    48673  \n",
       "2        3.4      M    17801  \n",
       "3        NaN    NaN    12200  \n",
       "4        NaN    NaN    11432  "
      ]
     },
     "execution_count": 7,
     "metadata": {},
     "output_type": "execute_result"
    }
   ],
   "source": [
    "data_games.head()"
   ]
  },
  {
   "cell_type": "code",
   "execution_count": 8,
   "metadata": {},
   "outputs": [
    {
     "name": "stdout",
     "output_type": "stream",
     "text": [
      "<class 'pandas.core.frame.DataFrame'>\n",
      "RangeIndex: 4026 entries, 0 to 4025\n",
      "Data columns (total 9 columns):\n",
      " #   Column        Non-Null Count  Dtype  \n",
      "---  ------        --------------  -----  \n",
      " 0   platform      4026 non-null   object \n",
      " 1   sales_year    4026 non-null   float64\n",
      " 2   genre         4026 non-null   object \n",
      " 3   online        4026 non-null   float64\n",
      " 4   offline       4026 non-null   float64\n",
      " 5   critic_score  1812 non-null   float64\n",
      " 6   user_score    2382 non-null   object \n",
      " 7   rating        2315 non-null   object \n",
      " 8   game_id       4026 non-null   int64  \n",
      "dtypes: float64(4), int64(1), object(4)\n",
      "memory usage: 283.2+ KB\n"
     ]
    }
   ],
   "source": [
    "data_games.info()"
   ]
  },
  {
   "cell_type": "code",
   "execution_count": 9,
   "metadata": {},
   "outputs": [
    {
     "data": {
      "text/plain": [
       "0"
      ]
     },
     "execution_count": 9,
     "metadata": {},
     "output_type": "execute_result"
    }
   ],
   "source": [
    "data_games.duplicated().sum()"
   ]
  },
  {
   "cell_type": "markdown",
   "metadata": {},
   "source": [
    "Все колонки, кроме отзывов и рейтингов, заполнены полностью, дубликатов в таблице нет. Тип данных нужно изменить для следующих колонок:\n",
    "- sales_year\n",
    "- online\n",
    "- offline\n",
    "Все они имеют тип данных float, хотя должен быть int (не может быть дробного числа продаж или года).\n",
    "\n",
    "Также необходимо посчитать общее количество продаж - это сумма онлайн и оффлайн продаж."
   ]
  },
  {
   "cell_type": "code",
   "execution_count": 10,
   "metadata": {},
   "outputs": [
    {
     "data": {
      "text/html": [
       "<div>\n",
       "<style scoped>\n",
       "    .dataframe tbody tr th:only-of-type {\n",
       "        vertical-align: middle;\n",
       "    }\n",
       "\n",
       "    .dataframe tbody tr th {\n",
       "        vertical-align: top;\n",
       "    }\n",
       "\n",
       "    .dataframe thead th {\n",
       "        text-align: right;\n",
       "    }\n",
       "</style>\n",
       "<table border=\"1\" class=\"dataframe\">\n",
       "  <thead>\n",
       "    <tr style=\"text-align: right;\">\n",
       "      <th></th>\n",
       "      <th>platform</th>\n",
       "      <th>sales_year</th>\n",
       "      <th>genre</th>\n",
       "      <th>online</th>\n",
       "      <th>offline</th>\n",
       "      <th>critic_score</th>\n",
       "      <th>user_score</th>\n",
       "      <th>rating</th>\n",
       "      <th>game_id</th>\n",
       "      <th>total_sales</th>\n",
       "    </tr>\n",
       "  </thead>\n",
       "  <tbody>\n",
       "    <tr>\n",
       "      <th>0</th>\n",
       "      <td>PS3</td>\n",
       "      <td>2017.00</td>\n",
       "      <td>Action</td>\n",
       "      <td>702.00</td>\n",
       "      <td>909.00</td>\n",
       "      <td>97.00</td>\n",
       "      <td>8.2</td>\n",
       "      <td>M</td>\n",
       "      <td>20838</td>\n",
       "      <td>1611.00</td>\n",
       "    </tr>\n",
       "    <tr>\n",
       "      <th>1</th>\n",
       "      <td>X360</td>\n",
       "      <td>2017.00</td>\n",
       "      <td>Action</td>\n",
       "      <td>966.00</td>\n",
       "      <td>514.00</td>\n",
       "      <td>97.00</td>\n",
       "      <td>8.1</td>\n",
       "      <td>M</td>\n",
       "      <td>48673</td>\n",
       "      <td>1480.00</td>\n",
       "    </tr>\n",
       "    <tr>\n",
       "      <th>2</th>\n",
       "      <td>X360</td>\n",
       "      <td>2017.00</td>\n",
       "      <td>Shooter</td>\n",
       "      <td>904.00</td>\n",
       "      <td>424.00</td>\n",
       "      <td>88.00</td>\n",
       "      <td>3.4</td>\n",
       "      <td>M</td>\n",
       "      <td>17801</td>\n",
       "      <td>1328.00</td>\n",
       "    </tr>\n",
       "    <tr>\n",
       "      <th>3</th>\n",
       "      <td>PS4</td>\n",
       "      <td>2015.00</td>\n",
       "      <td>Shooter</td>\n",
       "      <td>603.00</td>\n",
       "      <td>586.00</td>\n",
       "      <td>nan</td>\n",
       "      <td>NaN</td>\n",
       "      <td>NaN</td>\n",
       "      <td>12200</td>\n",
       "      <td>1189.00</td>\n",
       "    </tr>\n",
       "    <tr>\n",
       "      <th>4</th>\n",
       "      <td>3DS</td>\n",
       "      <td>2017.00</td>\n",
       "      <td>Role-Playing</td>\n",
       "      <td>528.00</td>\n",
       "      <td>419.00</td>\n",
       "      <td>nan</td>\n",
       "      <td>NaN</td>\n",
       "      <td>NaN</td>\n",
       "      <td>11432</td>\n",
       "      <td>947.00</td>\n",
       "    </tr>\n",
       "  </tbody>\n",
       "</table>\n",
       "</div>"
      ],
      "text/plain": [
       "  platform  sales_year         genre  online  offline  critic_score  \\\n",
       "0      PS3     2017.00        Action  702.00   909.00         97.00   \n",
       "1     X360     2017.00        Action  966.00   514.00         97.00   \n",
       "2     X360     2017.00       Shooter  904.00   424.00         88.00   \n",
       "3      PS4     2015.00       Shooter  603.00   586.00           nan   \n",
       "4      3DS     2017.00  Role-Playing  528.00   419.00           nan   \n",
       "\n",
       "  user_score rating  game_id  total_sales  \n",
       "0        8.2      M    20838      1611.00  \n",
       "1        8.1      M    48673      1480.00  \n",
       "2        3.4      M    17801      1328.00  \n",
       "3        NaN    NaN    12200      1189.00  \n",
       "4        NaN    NaN    11432       947.00  "
      ]
     },
     "execution_count": 10,
     "metadata": {},
     "output_type": "execute_result"
    }
   ],
   "source": [
    "# общее число продаж\n",
    "data_games['total_sales'] = data_games['offline'] + data_games['online']\n",
    "data_games.head()"
   ]
  },
  {
   "cell_type": "code",
   "execution_count": 11,
   "metadata": {},
   "outputs": [
    {
     "name": "stdout",
     "output_type": "stream",
     "text": [
      "<class 'pandas.core.frame.DataFrame'>\n",
      "RangeIndex: 4026 entries, 0 to 4025\n",
      "Data columns (total 10 columns):\n",
      " #   Column        Non-Null Count  Dtype  \n",
      "---  ------        --------------  -----  \n",
      " 0   platform      4026 non-null   object \n",
      " 1   sales_year    4026 non-null   int64  \n",
      " 2   genre         4026 non-null   object \n",
      " 3   online        4026 non-null   int64  \n",
      " 4   offline       4026 non-null   int64  \n",
      " 5   critic_score  1812 non-null   float64\n",
      " 6   user_score    2382 non-null   object \n",
      " 7   rating        2315 non-null   object \n",
      " 8   game_id       4026 non-null   int64  \n",
      " 9   total_sales   4026 non-null   float64\n",
      "dtypes: float64(2), int64(4), object(4)\n",
      "memory usage: 314.7+ KB\n"
     ]
    }
   ],
   "source": [
    "#приведение колонкок про года и продажи к типу int\n",
    "data_games['sales_year'] = data_games['sales_year'].astype('int64')\n",
    "data_games['online'] = data_games['online'].astype('int64')\n",
    "data_games['offline'] = data_games['offline'].astype('int64')\n",
    "\n",
    "data_games.info()"
   ]
  },
  {
   "cell_type": "markdown",
   "metadata": {},
   "source": [
    "**Обработка пропусков**\n",
    "- основные пропуски находятся в колонках с отзывами и рейтингами;\n",
    "- есть также игры с нулевым количеством продаж онлайн и оффлайн."
   ]
  },
  {
   "cell_type": "code",
   "execution_count": 12,
   "metadata": {
    "scrolled": true
   },
   "outputs": [
    {
     "name": "stdout",
     "output_type": "stream",
     "text": [
      "Всего игр с нулевыми продажами оффлайн - 1479\n",
      "Всего игр с нулевыми продажами онлайн - 1592\n",
      "Всего игр с нулевыми продажами - 1097\n",
      "\n",
      "Всего игр с пользовательским рейтингом tbd - 350\n",
      "Всего игр без отзыва критиков - 2214\n",
      "Всего игр без отзыва пользователей - 1644\n"
     ]
    }
   ],
   "source": [
    "print ('Всего игр с нулевыми продажами оффлайн -', len(data_games[data_games['offline'] == 0]))\n",
    "print ('Всего игр с нулевыми продажами онлайн -', len(data_games[data_games['online'] == 0]))\n",
    "print ('Всего игр с нулевыми продажами -', len(data_games[data_games['total_sales'] == 0]))\n",
    "print ()\n",
    "print ('Всего игр с пользовательским рейтингом tbd -', len(data_games[data_games['user_score'] == 'tbd']))\n",
    "print ('Всего игр без отзыва критиков -', data_games['critic_score'].isnull().sum())\n",
    "print ('Всего игр без отзыва пользователей -', data_games['user_score'].isnull().sum())"
   ]
  },
  {
   "cell_type": "markdown",
   "metadata": {},
   "source": [
    "1. Количество продаж, равное нулю, в 877 случая объясняется тем, что продажи идут либо только в онлайне, либо в оффлайне, заменять нули на какое-то другое знчение нет необходимости.\n",
    "2. Для 1097 случаев продажи равны нулю и онлайн, и оффлайн. Это объясняется тем, что довольно большое число игр являются условно бесплатными и существуют за счет внутриигровых продаж. Такие продажи не могут попасть в этот рейтинг. Менять значение нет необходимости.\n",
    "3. Игр с пользовательским рейтингом tbd не так много. TBD означает to be determined или to be discussed. Например, вот [тут](https://www.metacritic.com/faq#item13) tbd отображается, если количество отзывов меньше четырех. Та же ситуация может быть, если игра еще не вышла. Эти значения можно заменить на NaN, но не обязательно.\n",
    "4. Вопрос, почему игр без отзывов критиков и пользователей столько, приводит к вопросу о том, откуда данные. Скорее всего, для данных о продажах и данных о рейтинге были использованы разные источники, собранные вместе, и на сайте с рейтингами просто были не все из тех игр, которые были на сайте с продажами. В следующем шаге предлагается, в частности, сравнить распределения по годам продажи для игр с отзывом и без; опираясь на это, можно оставить пропуски в отзывах как есть."
   ]
  },
  {
   "cell_type": "code",
   "execution_count": 13,
   "metadata": {},
   "outputs": [
    {
     "data": {
      "text/plain": [
       "1994"
      ]
     },
     "execution_count": 13,
     "metadata": {},
     "output_type": "execute_result"
    }
   ],
   "source": [
    "# замена рейтинга tbd на NaN\n",
    "data_games['user_score'].replace('tbd', np.nan, inplace = True)\n",
    "data_games['user_score'].isnull().sum()"
   ]
  },
  {
   "cell_type": "code",
   "execution_count": 14,
   "metadata": {},
   "outputs": [
    {
     "name": "stdout",
     "output_type": "stream",
     "text": [
      "<class 'pandas.core.frame.DataFrame'>\n",
      "RangeIndex: 4026 entries, 0 to 4025\n",
      "Data columns (total 10 columns):\n",
      " #   Column        Non-Null Count  Dtype  \n",
      "---  ------        --------------  -----  \n",
      " 0   platform      4026 non-null   object \n",
      " 1   sales_year    4026 non-null   int64  \n",
      " 2   genre         4026 non-null   object \n",
      " 3   online        4026 non-null   int64  \n",
      " 4   offline       4026 non-null   int64  \n",
      " 5   critic_score  1812 non-null   float64\n",
      " 6   user_score    2032 non-null   float64\n",
      " 7   rating        2315 non-null   object \n",
      " 8   game_id       4026 non-null   int64  \n",
      " 9   total_sales   4026 non-null   float64\n",
      "dtypes: float64(3), int64(4), object(3)\n",
      "memory usage: 314.7+ KB\n"
     ]
    }
   ],
   "source": [
    "# перевод user_score в тип данных float\n",
    "data_games['user_score'] = data_games['user_score'].astype('float64')\n",
    "data_games.info()"
   ]
  },
  {
   "cell_type": "markdown",
   "metadata": {},
   "source": [
    "# Анализ данных <a name=\"2\"></a>"
   ]
  },
  {
   "cell_type": "markdown",
   "metadata": {},
   "source": [
    "- распределение количества игр по годам продажи\n",
    "- распределение количества игр по годам продажи для игр с отзывом и без отзыва\n",
    "- график по суммам продаж каждого года\n",
    "- ящик с усами по общим продажам\n",
    "- на какой платформе было продано больше всего игр\n",
    "- игр какого жанра больше всего\n",
    "- игры с наибольшей и наименьшей оценкой от пользователей\n",
    "- игры с наибольшей и наименьшей оценкой от критиков\n",
    "- корреляция между оценками критиков и пользовательскими оценками."
   ]
  },
  {
   "cell_type": "code",
   "execution_count": 15,
   "metadata": {},
   "outputs": [
    {
     "data": {
      "text/plain": [
       "2017    1683\n",
       "2018    1235\n",
       "2015     606\n",
       "2016     502\n",
       "Name: sales_year, dtype: int64"
      ]
     },
     "execution_count": 15,
     "metadata": {},
     "output_type": "execute_result"
    }
   ],
   "source": [
    "#распределение количества игр по годам продажи\n",
    "data_games['sales_year'].value_counts()"
   ]
  },
  {
   "cell_type": "code",
   "execution_count": 16,
   "metadata": {},
   "outputs": [
    {
     "data": {
      "image/png": "[encoded data removed]",
      "text/plain": [
       "<Figure size 504x360 with 1 Axes>"
      ]
     },
     "metadata": {},
     "output_type": "display_data"
    }
   ],
   "source": [
    "# гистограмма количества игр по годам продажи\n",
    "data_games.hist('sales_year', bins=[2014.5, 2015.5, 2016.5, 2017.5, 2018.5], color='#0504aa', \n",
    "                alpha=0.7, rwidth=0.7, figsize = (7,5))\n",
    "plt.xlabel('год продажи')\n",
    "plt.ylabel('количество проданных игр')\n",
    "plt.xticks([2015, 2016, 2017, 2018])\n",
    "plt.show()"
   ]
  },
  {
   "cell_type": "markdown",
   "metadata": {},
   "source": [
    "Сложно судить о результате: какой-то странный провал в 2016 году и потом сразу пик в 2017 - увеличение количества более чем в три раза. Наверное, объясняется конкретной выборкой.\n",
    "\n",
    "Чтобы однозначно поделить игры с отзывом и без, положим в категорию \"без отзыва\" все, где нет отзыва или критиков, или пользователей. "
   ]
  },
  {
   "cell_type": "code",
   "execution_count": 17,
   "metadata": {},
   "outputs": [
    {
     "data": {
      "text/html": [
       "<div>\n",
       "<style scoped>\n",
       "    .dataframe tbody tr th:only-of-type {\n",
       "        vertical-align: middle;\n",
       "    }\n",
       "\n",
       "    .dataframe tbody tr th {\n",
       "        vertical-align: top;\n",
       "    }\n",
       "\n",
       "    .dataframe thead th {\n",
       "        text-align: right;\n",
       "    }\n",
       "</style>\n",
       "<table border=\"1\" class=\"dataframe\">\n",
       "  <thead>\n",
       "    <tr style=\"text-align: right;\">\n",
       "      <th></th>\n",
       "      <th>no_score</th>\n",
       "      <th>with_score</th>\n",
       "    </tr>\n",
       "    <tr>\n",
       "      <th>sales_year</th>\n",
       "      <th></th>\n",
       "      <th></th>\n",
       "    </tr>\n",
       "  </thead>\n",
       "  <tbody>\n",
       "    <tr>\n",
       "      <th>2015</th>\n",
       "      <td>385</td>\n",
       "      <td>221</td>\n",
       "    </tr>\n",
       "    <tr>\n",
       "      <th>2016</th>\n",
       "      <td>275</td>\n",
       "      <td>227</td>\n",
       "    </tr>\n",
       "    <tr>\n",
       "      <th>2017</th>\n",
       "      <td>945</td>\n",
       "      <td>738</td>\n",
       "    </tr>\n",
       "    <tr>\n",
       "      <th>2018</th>\n",
       "      <td>658</td>\n",
       "      <td>577</td>\n",
       "    </tr>\n",
       "  </tbody>\n",
       "</table>\n",
       "</div>"
      ],
      "text/plain": [
       "            no_score  with_score\n",
       "sales_year                      \n",
       "2015             385         221\n",
       "2016             275         227\n",
       "2017             945         738\n",
       "2018             658         577"
      ]
     },
     "execution_count": 17,
     "metadata": {},
     "output_type": "execute_result"
    }
   ],
   "source": [
    "def separate(data):\n",
    "    if data['user_score']!=data['user_score']:\n",
    "        return 0\n",
    "    elif data['critic_score']!=data['critic_score']:\n",
    "        return 0\n",
    "    return 1\n",
    "    \n",
    "data_games['score_category'] = data_games.apply(separate, axis=1)\n",
    "\n",
    "#сводная таблица, чтобы строить график, а не гистограмму\n",
    "data_score_pivot = data_games.pivot_table(index = 'sales_year', values = 'total_sales', \n",
    "                                          columns = 'score_category', aggfunc = 'count')\n",
    "data_score_pivot.set_axis(['no_score', 'with_score'], axis = 1, inplace = True)\n",
    "data_score_pivot"
   ]
  },
  {
   "cell_type": "code",
   "execution_count": 18,
   "metadata": {},
   "outputs": [
    {
     "data": {
      "image/png": "[encoded data removed]",
      "text/plain": [
       "<Figure size 504x360 with 1 Axes>"
      ]
     },
     "metadata": {},
     "output_type": "display_data"
    }
   ],
   "source": [
    "# количество игр с отзывом и без\n",
    "data_score_pivot.plot(style='o-', xlim=(2014.8, 2018.2), ylim=(0,1100), figsize = (7,5))\n",
    "plt.xlabel('год продажи')\n",
    "plt.ylabel('количество проданных игр')\n",
    "plt.xticks([2015, 2016, 2017, 2018])\n",
    "plt.show()"
   ]
  },
  {
   "cell_type": "markdown",
   "metadata": {},
   "source": [
    "Общее распределение соответствует тому, как распределяются продажи в целом: провал в 2016 и пик в 2017 году.\n",
    "\n",
    "Интересно, что игр без отзыва несколько больше, чем игр с отзывом, эта разница особенно заметна именно в 2017. Сравним это с суммами продаж."
   ]
  },
  {
   "cell_type": "code",
   "execution_count": 19,
   "metadata": {},
   "outputs": [
    {
     "data": {
      "text/html": [
       "<div>\n",
       "<style scoped>\n",
       "    .dataframe tbody tr th:only-of-type {\n",
       "        vertical-align: middle;\n",
       "    }\n",
       "\n",
       "    .dataframe tbody tr th {\n",
       "        vertical-align: top;\n",
       "    }\n",
       "\n",
       "    .dataframe thead th {\n",
       "        text-align: right;\n",
       "    }\n",
       "</style>\n",
       "<table border=\"1\" class=\"dataframe\">\n",
       "  <thead>\n",
       "    <tr style=\"text-align: right;\">\n",
       "      <th></th>\n",
       "      <th>no_score</th>\n",
       "      <th>with_score</th>\n",
       "      <th>total_sales</th>\n",
       "    </tr>\n",
       "    <tr>\n",
       "      <th>sales_year</th>\n",
       "      <th></th>\n",
       "      <th></th>\n",
       "      <th></th>\n",
       "    </tr>\n",
       "  </thead>\n",
       "  <tbody>\n",
       "    <tr>\n",
       "      <th>2015</th>\n",
       "      <td>7422.00</td>\n",
       "      <td>12936.00</td>\n",
       "      <td>20358.00</td>\n",
       "    </tr>\n",
       "    <tr>\n",
       "      <th>2016</th>\n",
       "      <td>1990.00</td>\n",
       "      <td>7625.00</td>\n",
       "      <td>9615.00</td>\n",
       "    </tr>\n",
       "    <tr>\n",
       "      <th>2017</th>\n",
       "      <td>14051.00</td>\n",
       "      <td>53645.00</td>\n",
       "      <td>67696.00</td>\n",
       "    </tr>\n",
       "    <tr>\n",
       "      <th>2018</th>\n",
       "      <td>13231.00</td>\n",
       "      <td>39082.00</td>\n",
       "      <td>52313.00</td>\n",
       "    </tr>\n",
       "  </tbody>\n",
       "</table>\n",
       "</div>"
      ],
      "text/plain": [
       "            no_score  with_score  total_sales\n",
       "sales_year                                   \n",
       "2015         7422.00    12936.00     20358.00\n",
       "2016         1990.00     7625.00      9615.00\n",
       "2017        14051.00    53645.00     67696.00\n",
       "2018        13231.00    39082.00     52313.00"
      ]
     },
     "execution_count": 19,
     "metadata": {},
     "output_type": "execute_result"
    }
   ],
   "source": [
    "#сводная таблица для суммы продаж\n",
    "data_total_sales = data_games.pivot_table(index = 'sales_year', values = 'total_sales', \n",
    "                                          columns = 'score_category', aggfunc = 'sum')\n",
    "data_total_sales.set_axis(['no_score', 'with_score'], axis = 1, inplace = True)\n",
    "data_total_sales['total_sales'] = data_total_sales['no_score'] + data_total_sales['with_score']\n",
    "data_total_sales"
   ]
  },
  {
   "cell_type": "code",
   "execution_count": 20,
   "metadata": {},
   "outputs": [
    {
     "data": {
      "image/png": "[encoded data removed]",
      "text/plain": [
       "<Figure size 504x360 with 1 Axes>"
      ]
     },
     "metadata": {},
     "output_type": "display_data"
    }
   ],
   "source": [
    "# график суммы продаж игр с отзывом, без отзыва и всего\n",
    "data_total_sales.plot(style='o-', xlim=(2014.8, 2018.2), ylim=(0,80000), figsize = (7,5))\n",
    "plt.xlabel('год продажи')\n",
    "plt.ylabel('сумма продаж')\n",
    "plt.xticks([2015, 2016, 2017, 2018])\n",
    "plt.show()"
   ]
  },
  {
   "cell_type": "markdown",
   "metadata": {},
   "source": [
    "Интересный результат: хотя **количество продаваемых игр** с отзывами меньше, чем игр без отзывов, как мы видели на предыдущем графике, **сумма продаж** для игр с отзывом гораздо выше. \n",
    "\n",
    "То есть отзывы пишут не ко всем играм, но зато те, у которых есть отзывы - раскупаются гораздо лучше. Логично. "
   ]
  },
  {
   "cell_type": "code",
   "execution_count": 21,
   "metadata": {},
   "outputs": [
    {
     "data": {
      "text/plain": [
       "(0, 500)"
      ]
     },
     "execution_count": 21,
     "metadata": {},
     "output_type": "execute_result"
    },
    {
     "data": {
      "image/png": "[encoded data removed]",
      "text/plain": [
       "<Figure size 432x288 with 1 Axes>"
      ]
     },
     "metadata": {},
     "output_type": "display_data"
    }
   ],
   "source": [
    "#ящик с усами для общих продаж\n",
    "data_games['total_sales'].plot.box()\n",
    "plt.ylim(0,500)"
   ]
  },
  {
   "cell_type": "code",
   "execution_count": 22,
   "metadata": {},
   "outputs": [
    {
     "data": {
      "text/plain": [
       "count   4026.00\n",
       "mean      37.25\n",
       "std       99.36\n",
       "min        0.00\n",
       "25%        0.00\n",
       "50%        8.00\n",
       "75%       31.00\n",
       "max     1611.00\n",
       "Name: total_sales, dtype: float64"
      ]
     },
     "execution_count": 22,
     "metadata": {},
     "output_type": "execute_result"
    }
   ],
   "source": [
    "data_games['total_sales'].describe()"
   ]
  },
  {
   "cell_type": "markdown",
   "metadata": {},
   "source": [
    "Из-за большого количества бесплатных игр значение медианы равно всего 8, а третий квартиль заканчивается на 31.\n",
    "Вообще на общий ящик продаж не очень интересно смотреть, поэтому построим ящики по жанрам."
   ]
  },
  {
   "cell_type": "code",
   "execution_count": 23,
   "metadata": {},
   "outputs": [
    {
     "data": {
      "text/plain": [
       "(0, 500)"
      ]
     },
     "execution_count": 23,
     "metadata": {},
     "output_type": "execute_result"
    },
    {
     "data": {
      "image/png": "[encoded data removed]",
      "text/plain": [
       "<Figure size 720x576 with 1 Axes>"
      ]
     },
     "metadata": {},
     "output_type": "display_data"
    }
   ],
   "source": [
    "data_games.boxplot(column='total_sales', by='genre', figsize = (10,8))\n",
    "plt.ylim(0,500)"
   ]
  },
  {
   "cell_type": "markdown",
   "metadata": {},
   "source": [
    "Это интереснее! Особенно в сравнении с тем, как распределяются жанры по количеству игр.\n",
    "- жанра action больше всего и продаж по нему много, но при этом, видимо, среди этого жанра тоже много бесплатных - значение медианы низкое\n",
    "- а вот жанр shooter в среднем чаще продается за деньги и бесплатных среди него меньше.\n"
   ]
  },
  {
   "cell_type": "code",
   "execution_count": 24,
   "metadata": {},
   "outputs": [
    {
     "data": {
      "text/plain": [
       "Text(0, 0.5, 'всего игр')"
      ]
     },
     "execution_count": 24,
     "metadata": {},
     "output_type": "execute_result"
    },
    {
     "data": {
      "image/png": "[encoded data removed]",
      "text/plain": [
       "<Figure size 576x432 with 1 Axes>"
      ]
     },
     "metadata": {},
     "output_type": "display_data"
    }
   ],
   "source": [
    "# игр какого жанра больше всего\n",
    "data_genre = data_games.pivot_table(index = 'genre', values = 'total_sales', aggfunc = 'count')\n",
    "data_genre = data_genre.sort_values(by = 'total_sales', ascending = False)\n",
    "data_genre.plot(kind = 'bar', figsize = (8,6), color='#0504aa')\n",
    "plt.xlabel('жанр')\n",
    "plt.ylabel('всего игр')"
   ]
  },
  {
   "cell_type": "code",
   "execution_count": 25,
   "metadata": {},
   "outputs": [
    {
     "data": {
      "text/plain": [
       "Text(0, 0.5, 'всего игр')"
      ]
     },
     "execution_count": 25,
     "metadata": {},
     "output_type": "execute_result"
    },
    {
     "data": {
      "image/png": "[encoded data removed]",
      "text/plain": [
       "<Figure size 576x432 with 1 Axes>"
      ]
     },
     "metadata": {},
     "output_type": "display_data"
    }
   ],
   "source": [
    "# на какой платформе было продано больше всего игр\n",
    "data_platform = data_games.pivot_table(index = 'platform', values = 'total_sales', aggfunc = 'count')\n",
    "data_platform = data_platform.sort_values(by = 'total_sales', ascending = False)\n",
    "data_platform.plot(kind = 'bar', figsize = (8,6), color='#1d5a45')\n",
    "plt.xlabel('платформа')\n",
    "plt.ylabel('всего игр')"
   ]
  },
  {
   "cell_type": "code",
   "execution_count": 26,
   "metadata": {},
   "outputs": [
    {
     "data": {
      "text/html": [
       "<div>\n",
       "<style scoped>\n",
       "    .dataframe tbody tr th:only-of-type {\n",
       "        vertical-align: middle;\n",
       "    }\n",
       "\n",
       "    .dataframe tbody tr th {\n",
       "        vertical-align: top;\n",
       "    }\n",
       "\n",
       "    .dataframe thead th {\n",
       "        text-align: right;\n",
       "    }\n",
       "</style>\n",
       "<table border=\"1\" class=\"dataframe\">\n",
       "  <thead>\n",
       "    <tr style=\"text-align: right;\">\n",
       "      <th></th>\n",
       "      <th>platform</th>\n",
       "      <th>sales_year</th>\n",
       "      <th>genre</th>\n",
       "      <th>online</th>\n",
       "      <th>offline</th>\n",
       "      <th>critic_score</th>\n",
       "      <th>user_score</th>\n",
       "      <th>rating</th>\n",
       "      <th>game_id</th>\n",
       "      <th>total_sales</th>\n",
       "      <th>score_category</th>\n",
       "    </tr>\n",
       "  </thead>\n",
       "  <tbody>\n",
       "    <tr>\n",
       "      <th>2348</th>\n",
       "      <td>PSV</td>\n",
       "      <td>2015</td>\n",
       "      <td>Adventure</td>\n",
       "      <td>0</td>\n",
       "      <td>3</td>\n",
       "      <td>86.00</td>\n",
       "      <td>9.30</td>\n",
       "      <td>M</td>\n",
       "      <td>38270</td>\n",
       "      <td>3.00</td>\n",
       "      <td>1</td>\n",
       "    </tr>\n",
       "    <tr>\n",
       "      <th>639</th>\n",
       "      <td>PC</td>\n",
       "      <td>2015</td>\n",
       "      <td>Role-Playing</td>\n",
       "      <td>21</td>\n",
       "      <td>46</td>\n",
       "      <td>93.00</td>\n",
       "      <td>9.30</td>\n",
       "      <td>M</td>\n",
       "      <td>12365</td>\n",
       "      <td>67.00</td>\n",
       "      <td>1</td>\n",
       "    </tr>\n",
       "    <tr>\n",
       "      <th>77</th>\n",
       "      <td>PS4</td>\n",
       "      <td>2015</td>\n",
       "      <td>Role-Playing</td>\n",
       "      <td>102</td>\n",
       "      <td>213</td>\n",
       "      <td>92.00</td>\n",
       "      <td>9.20</td>\n",
       "      <td>M</td>\n",
       "      <td>43575</td>\n",
       "      <td>315.00</td>\n",
       "      <td>1</td>\n",
       "    </tr>\n",
       "    <tr>\n",
       "      <th>339</th>\n",
       "      <td>XOne</td>\n",
       "      <td>2015</td>\n",
       "      <td>Role-Playing</td>\n",
       "      <td>69</td>\n",
       "      <td>50</td>\n",
       "      <td>91.00</td>\n",
       "      <td>9.20</td>\n",
       "      <td>M</td>\n",
       "      <td>10495</td>\n",
       "      <td>119.00</td>\n",
       "      <td>1</td>\n",
       "    </tr>\n",
       "    <tr>\n",
       "      <th>2277</th>\n",
       "      <td>PSV</td>\n",
       "      <td>2017</td>\n",
       "      <td>Adventure</td>\n",
       "      <td>4</td>\n",
       "      <td>4</td>\n",
       "      <td>83.00</td>\n",
       "      <td>9.20</td>\n",
       "      <td>M</td>\n",
       "      <td>27691</td>\n",
       "      <td>8.00</td>\n",
       "      <td>1</td>\n",
       "    </tr>\n",
       "  </tbody>\n",
       "</table>\n",
       "</div>"
      ],
      "text/plain": [
       "     platform  sales_year         genre  online  offline  critic_score  \\\n",
       "2348      PSV        2015     Adventure       0        3         86.00   \n",
       "639        PC        2015  Role-Playing      21       46         93.00   \n",
       "77        PS4        2015  Role-Playing     102      213         92.00   \n",
       "339      XOne        2015  Role-Playing      69       50         91.00   \n",
       "2277      PSV        2017     Adventure       4        4         83.00   \n",
       "\n",
       "      user_score rating  game_id  total_sales  score_category  \n",
       "2348        9.30      M    38270         3.00               1  \n",
       "639         9.30      M    12365        67.00               1  \n",
       "77          9.20      M    43575       315.00               1  \n",
       "339         9.20      M    10495       119.00               1  \n",
       "2277        9.20      M    27691         8.00               1  "
      ]
     },
     "execution_count": 26,
     "metadata": {},
     "output_type": "execute_result"
    }
   ],
   "source": [
    "#игры c наибольшей оценкой от пользователей\n",
    "data_games.sort_values(by = 'user_score', ascending = False).head()"
   ]
  },
  {
   "cell_type": "code",
   "execution_count": 27,
   "metadata": {},
   "outputs": [
    {
     "data": {
      "text/html": [
       "<div>\n",
       "<style scoped>\n",
       "    .dataframe tbody tr th:only-of-type {\n",
       "        vertical-align: middle;\n",
       "    }\n",
       "\n",
       "    .dataframe tbody tr th {\n",
       "        vertical-align: top;\n",
       "    }\n",
       "\n",
       "    .dataframe thead th {\n",
       "        text-align: right;\n",
       "    }\n",
       "</style>\n",
       "<table border=\"1\" class=\"dataframe\">\n",
       "  <thead>\n",
       "    <tr style=\"text-align: right;\">\n",
       "      <th></th>\n",
       "      <th>platform</th>\n",
       "      <th>sales_year</th>\n",
       "      <th>genre</th>\n",
       "      <th>online</th>\n",
       "      <th>offline</th>\n",
       "      <th>critic_score</th>\n",
       "      <th>user_score</th>\n",
       "      <th>rating</th>\n",
       "      <th>game_id</th>\n",
       "      <th>total_sales</th>\n",
       "      <th>score_category</th>\n",
       "    </tr>\n",
       "  </thead>\n",
       "  <tbody>\n",
       "    <tr>\n",
       "      <th>2118</th>\n",
       "      <td>PS3</td>\n",
       "      <td>2016</td>\n",
       "      <td>Sports</td>\n",
       "      <td>7</td>\n",
       "      <td>2</td>\n",
       "      <td>nan</td>\n",
       "      <td>0.20</td>\n",
       "      <td>E</td>\n",
       "      <td>23493</td>\n",
       "      <td>9.00</td>\n",
       "      <td>0</td>\n",
       "    </tr>\n",
       "    <tr>\n",
       "      <th>1739</th>\n",
       "      <td>X360</td>\n",
       "      <td>2016</td>\n",
       "      <td>Sports</td>\n",
       "      <td>14</td>\n",
       "      <td>2</td>\n",
       "      <td>nan</td>\n",
       "      <td>0.70</td>\n",
       "      <td>E</td>\n",
       "      <td>28773</td>\n",
       "      <td>16.00</td>\n",
       "      <td>0</td>\n",
       "    </tr>\n",
       "    <tr>\n",
       "      <th>2695</th>\n",
       "      <td>DS</td>\n",
       "      <td>2017</td>\n",
       "      <td>Platform</td>\n",
       "      <td>6</td>\n",
       "      <td>0</td>\n",
       "      <td>nan</td>\n",
       "      <td>0.90</td>\n",
       "      <td>E</td>\n",
       "      <td>14384</td>\n",
       "      <td>6.00</td>\n",
       "      <td>0</td>\n",
       "    </tr>\n",
       "    <tr>\n",
       "      <th>3026</th>\n",
       "      <td>PS3</td>\n",
       "      <td>2017</td>\n",
       "      <td>Racing</td>\n",
       "      <td>2</td>\n",
       "      <td>1</td>\n",
       "      <td>13.00</td>\n",
       "      <td>1.00</td>\n",
       "      <td>M</td>\n",
       "      <td>28618</td>\n",
       "      <td>3.00</td>\n",
       "      <td>1</td>\n",
       "    </tr>\n",
       "    <tr>\n",
       "      <th>2321</th>\n",
       "      <td>X360</td>\n",
       "      <td>2017</td>\n",
       "      <td>Shooter</td>\n",
       "      <td>7</td>\n",
       "      <td>2</td>\n",
       "      <td>43.00</td>\n",
       "      <td>1.20</td>\n",
       "      <td>M</td>\n",
       "      <td>24620</td>\n",
       "      <td>9.00</td>\n",
       "      <td>1</td>\n",
       "    </tr>\n",
       "  </tbody>\n",
       "</table>\n",
       "</div>"
      ],
      "text/plain": [
       "     platform  sales_year     genre  online  offline  critic_score  \\\n",
       "2118      PS3        2016    Sports       7        2           nan   \n",
       "1739     X360        2016    Sports      14        2           nan   \n",
       "2695       DS        2017  Platform       6        0           nan   \n",
       "3026      PS3        2017    Racing       2        1         13.00   \n",
       "2321     X360        2017   Shooter       7        2         43.00   \n",
       "\n",
       "      user_score rating  game_id  total_sales  score_category  \n",
       "2118        0.20      E    23493         9.00               0  \n",
       "1739        0.70      E    28773        16.00               0  \n",
       "2695        0.90      E    14384         6.00               0  \n",
       "3026        1.00      M    28618         3.00               1  \n",
       "2321        1.20      M    24620         9.00               1  "
      ]
     },
     "execution_count": 27,
     "metadata": {},
     "output_type": "execute_result"
    }
   ],
   "source": [
    "#игры c наименьшей оценкой от пользователей\n",
    "data_games.sort_values(by = 'user_score').head()"
   ]
  },
  {
   "cell_type": "code",
   "execution_count": 28,
   "metadata": {},
   "outputs": [
    {
     "data": {
      "text/html": [
       "<div>\n",
       "<style scoped>\n",
       "    .dataframe tbody tr th:only-of-type {\n",
       "        vertical-align: middle;\n",
       "    }\n",
       "\n",
       "    .dataframe tbody tr th {\n",
       "        vertical-align: top;\n",
       "    }\n",
       "\n",
       "    .dataframe thead th {\n",
       "        text-align: right;\n",
       "    }\n",
       "</style>\n",
       "<table border=\"1\" class=\"dataframe\">\n",
       "  <thead>\n",
       "    <tr style=\"text-align: right;\">\n",
       "      <th></th>\n",
       "      <th>platform</th>\n",
       "      <th>sales_year</th>\n",
       "      <th>genre</th>\n",
       "      <th>online</th>\n",
       "      <th>offline</th>\n",
       "      <th>critic_score</th>\n",
       "      <th>user_score</th>\n",
       "      <th>rating</th>\n",
       "      <th>game_id</th>\n",
       "      <th>total_sales</th>\n",
       "      <th>score_category</th>\n",
       "    </tr>\n",
       "  </thead>\n",
       "  <tbody>\n",
       "    <tr>\n",
       "      <th>0</th>\n",
       "      <td>PS3</td>\n",
       "      <td>2017</td>\n",
       "      <td>Action</td>\n",
       "      <td>702</td>\n",
       "      <td>909</td>\n",
       "      <td>97.00</td>\n",
       "      <td>8.20</td>\n",
       "      <td>M</td>\n",
       "      <td>20838</td>\n",
       "      <td>1611.00</td>\n",
       "      <td>1</td>\n",
       "    </tr>\n",
       "    <tr>\n",
       "      <th>9</th>\n",
       "      <td>PS4</td>\n",
       "      <td>2018</td>\n",
       "      <td>Action</td>\n",
       "      <td>396</td>\n",
       "      <td>631</td>\n",
       "      <td>97.00</td>\n",
       "      <td>8.30</td>\n",
       "      <td>M</td>\n",
       "      <td>28618</td>\n",
       "      <td>1027.00</td>\n",
       "      <td>1</td>\n",
       "    </tr>\n",
       "    <tr>\n",
       "      <th>44</th>\n",
       "      <td>XOne</td>\n",
       "      <td>2018</td>\n",
       "      <td>Action</td>\n",
       "      <td>281</td>\n",
       "      <td>219</td>\n",
       "      <td>97.00</td>\n",
       "      <td>7.90</td>\n",
       "      <td>M</td>\n",
       "      <td>39055</td>\n",
       "      <td>500.00</td>\n",
       "      <td>1</td>\n",
       "    </tr>\n",
       "    <tr>\n",
       "      <th>1</th>\n",
       "      <td>X360</td>\n",
       "      <td>2017</td>\n",
       "      <td>Action</td>\n",
       "      <td>966</td>\n",
       "      <td>514</td>\n",
       "      <td>97.00</td>\n",
       "      <td>8.10</td>\n",
       "      <td>M</td>\n",
       "      <td>48673</td>\n",
       "      <td>1480.00</td>\n",
       "      <td>1</td>\n",
       "    </tr>\n",
       "    <tr>\n",
       "      <th>19</th>\n",
       "      <td>X360</td>\n",
       "      <td>2017</td>\n",
       "      <td>Role-Playing</td>\n",
       "      <td>505</td>\n",
       "      <td>279</td>\n",
       "      <td>96.00</td>\n",
       "      <td>8.40</td>\n",
       "      <td>M</td>\n",
       "      <td>29673</td>\n",
       "      <td>784.00</td>\n",
       "      <td>1</td>\n",
       "    </tr>\n",
       "  </tbody>\n",
       "</table>\n",
       "</div>"
      ],
      "text/plain": [
       "   platform  sales_year         genre  online  offline  critic_score  \\\n",
       "0       PS3        2017        Action     702      909         97.00   \n",
       "9       PS4        2018        Action     396      631         97.00   \n",
       "44     XOne        2018        Action     281      219         97.00   \n",
       "1      X360        2017        Action     966      514         97.00   \n",
       "19     X360        2017  Role-Playing     505      279         96.00   \n",
       "\n",
       "    user_score rating  game_id  total_sales  score_category  \n",
       "0         8.20      M    20838      1611.00               1  \n",
       "9         8.30      M    28618      1027.00               1  \n",
       "44        7.90      M    39055       500.00               1  \n",
       "1         8.10      M    48673      1480.00               1  \n",
       "19        8.40      M    29673       784.00               1  "
      ]
     },
     "execution_count": 28,
     "metadata": {},
     "output_type": "execute_result"
    }
   ],
   "source": [
    "#игры c наибольшей оценкой от критиков\n",
    "data_games.sort_values(by = 'critic_score', ascending = False).head()"
   ]
  },
  {
   "cell_type": "code",
   "execution_count": 29,
   "metadata": {},
   "outputs": [
    {
     "data": {
      "text/html": [
       "<div>\n",
       "<style scoped>\n",
       "    .dataframe tbody tr th:only-of-type {\n",
       "        vertical-align: middle;\n",
       "    }\n",
       "\n",
       "    .dataframe tbody tr th {\n",
       "        vertical-align: top;\n",
       "    }\n",
       "\n",
       "    .dataframe thead th {\n",
       "        text-align: right;\n",
       "    }\n",
       "</style>\n",
       "<table border=\"1\" class=\"dataframe\">\n",
       "  <thead>\n",
       "    <tr style=\"text-align: right;\">\n",
       "      <th></th>\n",
       "      <th>platform</th>\n",
       "      <th>sales_year</th>\n",
       "      <th>genre</th>\n",
       "      <th>online</th>\n",
       "      <th>offline</th>\n",
       "      <th>critic_score</th>\n",
       "      <th>user_score</th>\n",
       "      <th>rating</th>\n",
       "      <th>game_id</th>\n",
       "      <th>total_sales</th>\n",
       "      <th>score_category</th>\n",
       "    </tr>\n",
       "  </thead>\n",
       "  <tbody>\n",
       "    <tr>\n",
       "      <th>3026</th>\n",
       "      <td>PS3</td>\n",
       "      <td>2017</td>\n",
       "      <td>Racing</td>\n",
       "      <td>2</td>\n",
       "      <td>1</td>\n",
       "      <td>13.00</td>\n",
       "      <td>1.00</td>\n",
       "      <td>M</td>\n",
       "      <td>28618</td>\n",
       "      <td>3.00</td>\n",
       "      <td>1</td>\n",
       "    </tr>\n",
       "    <tr>\n",
       "      <th>2812</th>\n",
       "      <td>X360</td>\n",
       "      <td>2017</td>\n",
       "      <td>Racing</td>\n",
       "      <td>4</td>\n",
       "      <td>1</td>\n",
       "      <td>19.00</td>\n",
       "      <td>1.30</td>\n",
       "      <td>M</td>\n",
       "      <td>11902</td>\n",
       "      <td>5.00</td>\n",
       "      <td>1</td>\n",
       "    </tr>\n",
       "    <tr>\n",
       "      <th>2127</th>\n",
       "      <td>PS4</td>\n",
       "      <td>2015</td>\n",
       "      <td>Sports</td>\n",
       "      <td>4</td>\n",
       "      <td>6</td>\n",
       "      <td>19.00</td>\n",
       "      <td>3.40</td>\n",
       "      <td>E</td>\n",
       "      <td>12797</td>\n",
       "      <td>10.00</td>\n",
       "      <td>1</td>\n",
       "    </tr>\n",
       "    <tr>\n",
       "      <th>2415</th>\n",
       "      <td>XOne</td>\n",
       "      <td>2015</td>\n",
       "      <td>Sports</td>\n",
       "      <td>3</td>\n",
       "      <td>5</td>\n",
       "      <td>20.00</td>\n",
       "      <td>3.10</td>\n",
       "      <td>E</td>\n",
       "      <td>42977</td>\n",
       "      <td>8.00</td>\n",
       "      <td>1</td>\n",
       "    </tr>\n",
       "    <tr>\n",
       "      <th>2121</th>\n",
       "      <td>X360</td>\n",
       "      <td>2017</td>\n",
       "      <td>Sports</td>\n",
       "      <td>8</td>\n",
       "      <td>3</td>\n",
       "      <td>21.00</td>\n",
       "      <td>5.00</td>\n",
       "      <td>T</td>\n",
       "      <td>18203</td>\n",
       "      <td>11.00</td>\n",
       "      <td>1</td>\n",
       "    </tr>\n",
       "  </tbody>\n",
       "</table>\n",
       "</div>"
      ],
      "text/plain": [
       "     platform  sales_year   genre  online  offline  critic_score  user_score  \\\n",
       "3026      PS3        2017  Racing       2        1         13.00        1.00   \n",
       "2812     X360        2017  Racing       4        1         19.00        1.30   \n",
       "2127      PS4        2015  Sports       4        6         19.00        3.40   \n",
       "2415     XOne        2015  Sports       3        5         20.00        3.10   \n",
       "2121     X360        2017  Sports       8        3         21.00        5.00   \n",
       "\n",
       "     rating  game_id  total_sales  score_category  \n",
       "3026      M    28618         3.00               1  \n",
       "2812      M    11902         5.00               1  \n",
       "2127      E    12797        10.00               1  \n",
       "2415      E    42977         8.00               1  \n",
       "2121      T    18203        11.00               1  "
      ]
     },
     "execution_count": 29,
     "metadata": {},
     "output_type": "execute_result"
    }
   ],
   "source": [
    "#игры c наименьшей оценкой от критиков\n",
    "data_games.sort_values(by = 'critic_score').head()"
   ]
  },
  {
   "cell_type": "code",
   "execution_count": 30,
   "metadata": {},
   "outputs": [
    {
     "name": "stdout",
     "output_type": "stream",
     "text": [
      "Корреляция между оценками пользователей и оценками критиков 0.5348532967085241\n"
     ]
    }
   ],
   "source": [
    "#корреляция между колонками \n",
    "corr = data_games['user_score'].corr(data_games['critic_score'])\n",
    "\n",
    "print ('Корреляция между оценками пользователей и оценками критиков', corr)"
   ]
  },
  {
   "cell_type": "markdown",
   "metadata": {},
   "source": [
    "# Портрет пользователя <a name=\"3\"></a>"
   ]
  },
  {
   "cell_type": "markdown",
   "metadata": {},
   "source": [
    "Для покупателей интернет-магазина и сети розничных магазинов надо определить:\n",
    "- топ-5 предпочтительных жанров\n",
    "- в какие года пользователи были наиболее активны (больше всего покупали игры)\n",
    "- топ-5 предпочтительных платформ\n",
    "- какой рейтинг ESRB встречается чаще всего (наиболее частотная категория)"
   ]
  },
  {
   "cell_type": "code",
   "execution_count": 31,
   "metadata": {},
   "outputs": [
    {
     "data": {
      "text/html": [
       "<div>\n",
       "<style scoped>\n",
       "    .dataframe tbody tr th:only-of-type {\n",
       "        vertical-align: middle;\n",
       "    }\n",
       "\n",
       "    .dataframe tbody tr th {\n",
       "        vertical-align: top;\n",
       "    }\n",
       "\n",
       "    .dataframe thead th {\n",
       "        text-align: right;\n",
       "    }\n",
       "</style>\n",
       "<table border=\"1\" class=\"dataframe\">\n",
       "  <thead>\n",
       "    <tr style=\"text-align: right;\">\n",
       "      <th></th>\n",
       "      <th>offline</th>\n",
       "      <th>online</th>\n",
       "    </tr>\n",
       "    <tr>\n",
       "      <th>genre</th>\n",
       "      <th></th>\n",
       "      <th></th>\n",
       "    </tr>\n",
       "  </thead>\n",
       "  <tbody>\n",
       "    <tr>\n",
       "      <th>Action</th>\n",
       "      <td>19910</td>\n",
       "      <td>23088</td>\n",
       "    </tr>\n",
       "    <tr>\n",
       "      <th>Shooter</th>\n",
       "      <td>14798</td>\n",
       "      <td>19443</td>\n",
       "    </tr>\n",
       "    <tr>\n",
       "      <th>Sports</th>\n",
       "      <td>8847</td>\n",
       "      <td>10866</td>\n",
       "    </tr>\n",
       "    <tr>\n",
       "      <th>Role-Playing</th>\n",
       "      <td>6229</td>\n",
       "      <td>8377</td>\n",
       "    </tr>\n",
       "    <tr>\n",
       "      <th>Misc</th>\n",
       "      <td>3972</td>\n",
       "      <td>6967</td>\n",
       "    </tr>\n",
       "    <tr>\n",
       "      <th>Platform</th>\n",
       "      <td>3007</td>\n",
       "      <td>3827</td>\n",
       "    </tr>\n",
       "    <tr>\n",
       "      <th>Racing</th>\n",
       "      <td>4056</td>\n",
       "      <td>3198</td>\n",
       "    </tr>\n",
       "    <tr>\n",
       "      <th>Fighting</th>\n",
       "      <td>1624</td>\n",
       "      <td>3163</td>\n",
       "    </tr>\n",
       "    <tr>\n",
       "      <th>Simulation</th>\n",
       "      <td>1971</td>\n",
       "      <td>1564</td>\n",
       "    </tr>\n",
       "    <tr>\n",
       "      <th>Adventure</th>\n",
       "      <td>1396</td>\n",
       "      <td>1476</td>\n",
       "    </tr>\n",
       "    <tr>\n",
       "      <th>Strategy</th>\n",
       "      <td>802</td>\n",
       "      <td>748</td>\n",
       "    </tr>\n",
       "    <tr>\n",
       "      <th>Puzzle</th>\n",
       "      <td>356</td>\n",
       "      <td>274</td>\n",
       "    </tr>\n",
       "  </tbody>\n",
       "</table>\n",
       "</div>"
      ],
      "text/plain": [
       "              offline  online\n",
       "genre                        \n",
       "Action          19910   23088\n",
       "Shooter         14798   19443\n",
       "Sports           8847   10866\n",
       "Role-Playing     6229    8377\n",
       "Misc             3972    6967\n",
       "Platform         3007    3827\n",
       "Racing           4056    3198\n",
       "Fighting         1624    3163\n",
       "Simulation       1971    1564\n",
       "Adventure        1396    1476\n",
       "Strategy          802     748\n",
       "Puzzle            356     274"
      ]
     },
     "execution_count": 31,
     "metadata": {},
     "output_type": "execute_result"
    }
   ],
   "source": [
    "# предпочтительные жанры для онлайн и оффлайн покупателей\n",
    "users_genre = data_games.pivot_table(index = 'genre', values = ['online', 'offline'], aggfunc = 'sum')\n",
    "users_genre = users_genre.sort_values(by = 'online', ascending = False)\n",
    "users_genre"
   ]
  },
  {
   "cell_type": "code",
   "execution_count": 32,
   "metadata": {},
   "outputs": [
    {
     "data": {
      "text/plain": [
       "Text(0, 0.5, 'всего продаж')"
      ]
     },
     "execution_count": 32,
     "metadata": {},
     "output_type": "execute_result"
    },
    {
     "data": {
      "image/png": "[encoded data removed]",
      "text/plain": [
       "<Figure size 576x432 with 1 Axes>"
      ]
     },
     "metadata": {},
     "output_type": "display_data"
    }
   ],
   "source": [
    "#график с популярными жанрами\n",
    "users_genre.plot(kind = 'bar', figsize = (8,6))\n",
    "plt.title('предпочтительные жанры')\n",
    "plt.xlabel('жанр')\n",
    "plt.ylabel('всего продаж')"
   ]
  },
  {
   "cell_type": "code",
   "execution_count": 33,
   "metadata": {},
   "outputs": [
    {
     "data": {
      "text/html": [
       "<div>\n",
       "<style scoped>\n",
       "    .dataframe tbody tr th:only-of-type {\n",
       "        vertical-align: middle;\n",
       "    }\n",
       "\n",
       "    .dataframe tbody tr th {\n",
       "        vertical-align: top;\n",
       "    }\n",
       "\n",
       "    .dataframe thead th {\n",
       "        text-align: right;\n",
       "    }\n",
       "</style>\n",
       "<table border=\"1\" class=\"dataframe\">\n",
       "  <thead>\n",
       "    <tr style=\"text-align: right;\">\n",
       "      <th></th>\n",
       "      <th>offline</th>\n",
       "      <th>online</th>\n",
       "    </tr>\n",
       "    <tr>\n",
       "      <th>platform</th>\n",
       "      <th></th>\n",
       "      <th></th>\n",
       "    </tr>\n",
       "  </thead>\n",
       "  <tbody>\n",
       "    <tr>\n",
       "      <th>X360</th>\n",
       "      <td>11709</td>\n",
       "      <td>22675</td>\n",
       "    </tr>\n",
       "    <tr>\n",
       "      <th>PS3</th>\n",
       "      <td>16307</td>\n",
       "      <td>16823</td>\n",
       "    </tr>\n",
       "    <tr>\n",
       "      <th>PS4</th>\n",
       "      <td>14106</td>\n",
       "      <td>10873</td>\n",
       "    </tr>\n",
       "    <tr>\n",
       "      <th>XOne</th>\n",
       "      <td>5157</td>\n",
       "      <td>9312</td>\n",
       "    </tr>\n",
       "    <tr>\n",
       "      <th>3DS</th>\n",
       "      <td>6126</td>\n",
       "      <td>8265</td>\n",
       "    </tr>\n",
       "    <tr>\n",
       "      <th>Wii</th>\n",
       "      <td>2960</td>\n",
       "      <td>4854</td>\n",
       "    </tr>\n",
       "    <tr>\n",
       "      <th>WiiU</th>\n",
       "      <td>2513</td>\n",
       "      <td>3809</td>\n",
       "    </tr>\n",
       "    <tr>\n",
       "      <th>PC</th>\n",
       "      <td>5669</td>\n",
       "      <td>2988</td>\n",
       "    </tr>\n",
       "    <tr>\n",
       "      <th>DS</th>\n",
       "      <td>924</td>\n",
       "      <td>1913</td>\n",
       "    </tr>\n",
       "    <tr>\n",
       "      <th>PSV</th>\n",
       "      <td>1307</td>\n",
       "      <td>1247</td>\n",
       "    </tr>\n",
       "    <tr>\n",
       "      <th>PSP</th>\n",
       "      <td>177</td>\n",
       "      <td>219</td>\n",
       "    </tr>\n",
       "    <tr>\n",
       "      <th>PS2</th>\n",
       "      <td>13</td>\n",
       "      <td>13</td>\n",
       "    </tr>\n",
       "  </tbody>\n",
       "</table>\n",
       "</div>"
      ],
      "text/plain": [
       "          offline  online\n",
       "platform                 \n",
       "X360        11709   22675\n",
       "PS3         16307   16823\n",
       "PS4         14106   10873\n",
       "XOne         5157    9312\n",
       "3DS          6126    8265\n",
       "Wii          2960    4854\n",
       "WiiU         2513    3809\n",
       "PC           5669    2988\n",
       "DS            924    1913\n",
       "PSV          1307    1247\n",
       "PSP           177     219\n",
       "PS2            13      13"
      ]
     },
     "execution_count": 33,
     "metadata": {},
     "output_type": "execute_result"
    }
   ],
   "source": [
    "# предпочтительные жанры для онлайн и оффлайн покупателей\n",
    "users_platform = data_games.pivot_table(index = 'platform', values = ['online', 'offline'], aggfunc = 'sum')\n",
    "users_platform = users_platform.sort_values(by = 'online', ascending = False)\n",
    "users_platform"
   ]
  },
  {
   "cell_type": "code",
   "execution_count": 34,
   "metadata": {},
   "outputs": [
    {
     "data": {
      "text/plain": [
       "Text(0, 0.5, 'всего продаж')"
      ]
     },
     "execution_count": 34,
     "metadata": {},
     "output_type": "execute_result"
    },
    {
     "data": {
      "image/png": "[encoded data removed]",
      "text/plain": [
       "<Figure size 576x432 with 1 Axes>"
      ]
     },
     "metadata": {},
     "output_type": "display_data"
    }
   ],
   "source": [
    "# график с популярными платформами\n",
    "users_platform.plot(kind = 'bar', figsize = (8,6))\n",
    "plt.title('предпочтительные платформы')\n",
    "plt.xlabel('платформа')\n",
    "plt.ylabel('всего продаж')"
   ]
  },
  {
   "cell_type": "markdown",
   "metadata": {},
   "source": [
    "**Топ-5 предпочтительных жанров**\n",
    "По графику и таблице видно, что топ-4 жанров для онлайн и оффлайн покупателей совпадают (action, shooter, sports, role-playing), а на пятом месте для онлайн-продаж находится жанр Misc, а для оффлайн-продаж - racing.\n",
    "\n",
    "**Топ-5 предпочтительных платформ**\n",
    "Здесь тоже 4 платформы совпадают (PS3, PS4, X360, 3DS), а пятая отличается - для онлайн-продаж это XOne, а для оффлайн - PC."
   ]
  },
  {
   "cell_type": "code",
   "execution_count": 35,
   "metadata": {},
   "outputs": [
    {
     "data": {
      "text/plain": [
       "Text(0, 0.5, 'всего продаж')"
      ]
     },
     "execution_count": 35,
     "metadata": {},
     "output_type": "execute_result"
    },
    {
     "data": {
      "image/png": "[encoded data removed]",
      "text/plain": [
       "<Figure size 576x432 with 1 Axes>"
      ]
     },
     "metadata": {},
     "output_type": "display_data"
    }
   ],
   "source": [
    "users_years = data_games.pivot_table(index = 'sales_year', values = ['online', 'offline'], aggfunc = 'sum')\n",
    "users_years.plot(kind = 'bar', figsize = (8,6))\n",
    "plt.title('в какие года пользователи были наиболее активны')\n",
    "plt.xlabel('год продажи')\n",
    "plt.ylabel('всего продаж')"
   ]
  },
  {
   "cell_type": "code",
   "execution_count": 36,
   "metadata": {},
   "outputs": [
    {
     "data": {
      "text/plain": [
       "Text(0, 0.5, 'всего продаж')"
      ]
     },
     "execution_count": 36,
     "metadata": {},
     "output_type": "execute_result"
    },
    {
     "data": {
      "image/png": "[encoded data removed]",
      "text/plain": [
       "<Figure size 576x432 with 1 Axes>"
      ]
     },
     "metadata": {},
     "output_type": "display_data"
    }
   ],
   "source": [
    "users_rating = data_games.pivot_table(index = 'rating', values = ['online', 'offline'], aggfunc = 'sum')\n",
    "users_rating.plot(kind = 'bar', figsize = (8,6))\n",
    "plt.title('какой рейтинг ESRB встречается чаще всего')\n",
    "plt.xlabel('рейтинг')\n",
    "plt.ylabel('всего продаж')"
   ]
  },
  {
   "cell_type": "markdown",
   "metadata": {},
   "source": [
    "Самым активным годом и для онлайн, и для оффлайн пользователей был 2017; 2018 на втором месте (это соответствует общим тенденциям в выборке).\n",
    "Самый популярный рейтинг и для онлайн, и для оффлайн пользователей - М (от 17 лет)."
   ]
  },
  {
   "cell_type": "markdown",
   "metadata": {},
   "source": [
    "# Проверка гипотез <a name=\"4\"></a>"
   ]
  },
  {
   "cell_type": "markdown",
   "metadata": {},
   "source": [
    "Проверим гипотезы:\n",
    "- средний пользовательский рейтинг платформ PS4 и PS3 одинаковый;\n",
    "- средний пользовательский рейтинг жанров Action и Sports различается.\n",
    "\n",
    "Первая нулевая гипотеза формулируется так же, как в задании: средний пользовательский рейтинг платформ PS4 и PS3 одинаковый. Соответственно, альтернативная гипотеза будет заключаться в том, что они отличаются. \n",
    "\n",
    "Вторая нулевая гипотеза, напротив, формулируется как противоположная заданию: средний пользовательский рейтинг жанров Action и Sports одинаковый. Соответственно, альтернативная гипотеза будет такая, как в задании - что рейтинги отличаются.\n",
    "\n",
    "Пороговое значение зададим равным 5% (представляется, что при таком размере выборки большей точности не достичь).\n",
    "\n",
    "Срезы для проверки гипотез сделаем без пропущенных значений user_score."
   ]
  },
  {
   "cell_type": "code",
   "execution_count": 37,
   "metadata": {},
   "outputs": [],
   "source": [
    "# срезы для проверки гипотез\n",
    "data_ps3 = data_games[(data_games['platform'] == 'PS3') & (data_games['user_score']==data_games['user_score'])]\n",
    "data_ps4 = data_games[(data_games['platform'] == 'PS4') & (data_games['user_score']==data_games['user_score'])]\n",
    "data_action = data_games[(data_games['genre'] == 'Action') & (data_games['user_score']==data_games['user_score'])]\n",
    "data_sports = data_games[(data_games['genre'] == 'Sports') & (data_games['user_score']==data_games['user_score'])]"
   ]
  },
  {
   "cell_type": "code",
   "execution_count": 38,
   "metadata": {},
   "outputs": [
    {
     "name": "stdout",
     "output_type": "stream",
     "text": [
      "p-value: 0.2543695482219482\n",
      "Не получилось отвергнуть нулевую гипотезу\n"
     ]
    }
   ],
   "source": [
    "sample_1 = data_ps3['user_score']\n",
    "sample_2 = data_ps4['user_score']\n",
    "alpha = 0.05\n",
    "results = st.ttest_ind(sample_1,sample_2, equal_var = False)\n",
    "\n",
    "print('p-value:', results.pvalue)\n",
    "\n",
    "if (results.pvalue < alpha):\n",
    "    print(\"Отвергаем нулевую гипотезу\")\n",
    "else:\n",
    "    print(\"Не получилось отвергнуть нулевую гипотезу\")"
   ]
  },
  {
   "cell_type": "code",
   "execution_count": 39,
   "metadata": {},
   "outputs": [
    {
     "name": "stdout",
     "output_type": "stream",
     "text": [
      "p-value: 8.285648549432565e-19\n",
      "Отвергаем нулевую гипотезу\n"
     ]
    }
   ],
   "source": [
    "sample_3 = data_action['user_score']\n",
    "sample_4 = data_sports['user_score']\n",
    "alpha = 0.05\n",
    "results = st.ttest_ind(sample_3, sample_4, equal_var = False)\n",
    "\n",
    "print('p-value:', results.pvalue)\n",
    "\n",
    "if (results.pvalue < alpha):\n",
    "    print(\"Отвергаем нулевую гипотезу\")\n",
    "else:\n",
    "    print(\"Не получилось отвергнуть нулевую гипотезу\")"
   ]
  },
  {
   "cell_type": "markdown",
   "metadata": {},
   "source": [
    "Итоги:\n",
    "\n",
    "- для первого случая нельзя отвергнуть нулевую гипотезу, т.е. можно принять гипотезу из задания \"средний пользовательский рейтинг платформ PS4 и PS3 одинаковый\", это скорее всего верно;\n",
    "- для второго случая отвергается нулевая гипотеза, т.е. тоже можно принять альтернативную гипотезу из задания \"средний пользовательский рейтинг жанров Action и Sports различается\"."
   ]
  }
 ],
 "metadata": {
  "kernelspec": {
   "display_name": "Python 3",
   "language": "python",
   "name": "python3"
  },
  "language_info": {
   "codemirror_mode": {
    "name": "ipython",
    "version": 3
   },
   "file_extension": ".py",
   "mimetype": "text/x-python",
   "name": "python",
   "nbconvert_exporter": "python",
   "pygments_lexer": "ipython3",
   "version": "3.7.6"
  }
 },
 "nbformat": 4,
 "nbformat_minor": 2
}
