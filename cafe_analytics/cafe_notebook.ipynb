{
 "cells": [
  {
   "cell_type": "markdown",
   "metadata": {},
   "source": [
    "# Исследование рынка заведений общественного питания Москвы"
   ]
  },
  {
   "cell_type": "markdown",
   "metadata": {},
   "source": [
    "Цель - исследование рынка заведений общественного питания, их видов, расположения, количества посадочных мест и т.п. с тем, чтобы оценить перспективность проекта нового кафе."
   ]
  },
  {
   "cell_type": "markdown",
   "metadata": {},
   "source": [
    "[1. Предобработка данных](#1)\n",
    "\n",
    "[2. Дополнение данных](#2)\n",
    "\n",
    "[3. Анализ данных](#3)\n",
    "- [соотношение видов объектов общественного питания по количеству](#3.1)\n",
    "- [соотношение сетевых и несетевых заведений по количеству](#3.2)\n",
    "- [для какого вида объекта общественного питания характерно сетевое распространение](#3.3)\n",
    "- [Что характерно для сетевых заведений](#3.4)\n",
    "- [среднее количество посадочных мест по видам заведений](#3.5)\n",
    "- [график топ-10 улиц по количеству объектов общественного питания](#3.6)\n",
    "- [улицы с одним объектом общественного питания](#3.7)\n",
    "- [распределение количества посадочных мест для улиц с большим количеством объектов](#3.8)\n",
    "\n",
    "[4. Выводы и презентация](#4)"
   ]
  },
  {
   "cell_type": "code",
   "execution_count": 1,
   "metadata": {},
   "outputs": [],
   "source": [
    "import pandas as pd\n",
    "import matplotlib.pyplot as plt\n",
    "import seaborn as sns\n",
    "sns.set_style(\"whitegrid\")\n",
    "\n",
    "import requests\n",
    "import re\n",
    "\n",
    "from keplergl import KeplerGl\n",
    "\n",
    "# yandex geocoder apikey\n",
    "# apikey\n",
    "\n",
    "pd.options.display.max_colwidth = 200\n"
   ]
  },
  {
   "cell_type": "markdown",
   "metadata": {},
   "source": [
    "##  1. Предобработка данных <a name=\"1\"></a>"
   ]
  },
  {
   "cell_type": "code",
   "execution_count": 2,
   "metadata": {
    "scrolled": true
   },
   "outputs": [
    {
     "data": {
      "text/html": [
       "<div>\n",
       "<style scoped>\n",
       "    .dataframe tbody tr th:only-of-type {\n",
       "        vertical-align: middle;\n",
       "    }\n",
       "\n",
       "    .dataframe tbody tr th {\n",
       "        vertical-align: top;\n",
       "    }\n",
       "\n",
       "    .dataframe thead th {\n",
       "        text-align: right;\n",
       "    }\n",
       "</style>\n",
       "<table border=\"1\" class=\"dataframe\">\n",
       "  <thead>\n",
       "    <tr style=\"text-align: right;\">\n",
       "      <th></th>\n",
       "      <th>id</th>\n",
       "      <th>object_name</th>\n",
       "      <th>chain</th>\n",
       "      <th>object_type</th>\n",
       "      <th>address</th>\n",
       "      <th>number</th>\n",
       "    </tr>\n",
       "  </thead>\n",
       "  <tbody>\n",
       "    <tr>\n",
       "      <th>0</th>\n",
       "      <td>151635</td>\n",
       "      <td>СМЕТАНА</td>\n",
       "      <td>нет</td>\n",
       "      <td>кафе</td>\n",
       "      <td>город Москва, улица Егора Абакумова, дом 9</td>\n",
       "      <td>48</td>\n",
       "    </tr>\n",
       "    <tr>\n",
       "      <th>1</th>\n",
       "      <td>77874</td>\n",
       "      <td>Родник</td>\n",
       "      <td>нет</td>\n",
       "      <td>кафе</td>\n",
       "      <td>город Москва, улица Талалихина, дом 2/1, корпус 1</td>\n",
       "      <td>35</td>\n",
       "    </tr>\n",
       "    <tr>\n",
       "      <th>2</th>\n",
       "      <td>24309</td>\n",
       "      <td>Кафе «Академия»</td>\n",
       "      <td>нет</td>\n",
       "      <td>кафе</td>\n",
       "      <td>город Москва, Абельмановская улица, дом 6</td>\n",
       "      <td>95</td>\n",
       "    </tr>\n",
       "    <tr>\n",
       "      <th>3</th>\n",
       "      <td>21894</td>\n",
       "      <td>ПИЦЦЕТОРИЯ</td>\n",
       "      <td>да</td>\n",
       "      <td>кафе</td>\n",
       "      <td>город Москва, Абрамцевская улица, дом 1</td>\n",
       "      <td>40</td>\n",
       "    </tr>\n",
       "    <tr>\n",
       "      <th>4</th>\n",
       "      <td>119365</td>\n",
       "      <td>Кафе «Вишневая метель»</td>\n",
       "      <td>нет</td>\n",
       "      <td>кафе</td>\n",
       "      <td>город Москва, Абрамцевская улица, дом 9, корпус 1</td>\n",
       "      <td>50</td>\n",
       "    </tr>\n",
       "  </tbody>\n",
       "</table>\n",
       "</div>"
      ],
      "text/plain": [
       "       id             object_name chain object_type  \\\n",
       "0  151635                 СМЕТАНА   нет        кафе   \n",
       "1   77874                  Родник   нет        кафе   \n",
       "2   24309         Кафе «Академия»   нет        кафе   \n",
       "3   21894              ПИЦЦЕТОРИЯ    да        кафе   \n",
       "4  119365  Кафе «Вишневая метель»   нет        кафе   \n",
       "\n",
       "                                             address  number  \n",
       "0         город Москва, улица Егора Абакумова, дом 9      48  \n",
       "1  город Москва, улица Талалихина, дом 2/1, корпус 1      35  \n",
       "2          город Москва, Абельмановская улица, дом 6      95  \n",
       "3            город Москва, Абрамцевская улица, дом 1      40  \n",
       "4  город Москва, Абрамцевская улица, дом 9, корпус 1      50  "
      ]
     },
     "execution_count": 2,
     "metadata": {},
     "output_type": "execute_result"
    }
   ],
   "source": [
    "data = pd.read_csv('./rest_data.csv', index_col = 0)\n",
    "data.head()"
   ]
  },
  {
   "cell_type": "code",
   "execution_count": 3,
   "metadata": {
    "scrolled": true
   },
   "outputs": [
    {
     "name": "stdout",
     "output_type": "stream",
     "text": [
      "<class 'pandas.core.frame.DataFrame'>\n",
      "Int64Index: 15366 entries, 0 to 15365\n",
      "Data columns (total 6 columns):\n",
      " #   Column       Non-Null Count  Dtype \n",
      "---  ------       --------------  ----- \n",
      " 0   id           15366 non-null  int64 \n",
      " 1   object_name  15366 non-null  object\n",
      " 2   chain        15366 non-null  object\n",
      " 3   object_type  15366 non-null  object\n",
      " 4   address      15366 non-null  object\n",
      " 5   number       15366 non-null  int64 \n",
      "dtypes: int64(2), object(4)\n",
      "memory usage: 840.3+ KB\n"
     ]
    }
   ],
   "source": [
    "data.info()"
   ]
  },
  {
   "cell_type": "code",
   "execution_count": 4,
   "metadata": {},
   "outputs": [
    {
     "data": {
      "text/plain": [
       "нет    12398\n",
       "да      2968\n",
       "Name: chain, dtype: int64"
      ]
     },
     "execution_count": 4,
     "metadata": {},
     "output_type": "execute_result"
    }
   ],
   "source": [
    "data['chain'].value_counts()"
   ]
  },
  {
   "cell_type": "code",
   "execution_count": 5,
   "metadata": {
    "scrolled": true
   },
   "outputs": [
    {
     "data": {
      "text/plain": [
       "кафе                                 6099\n",
       "столовая                             2587\n",
       "ресторан                             2285\n",
       "предприятие быстрого обслуживания    1923\n",
       "бар                                   856\n",
       "буфет                                 585\n",
       "кафетерий                             398\n",
       "закусочная                            360\n",
       "магазин (отдел кулинарии)             273\n",
       "Name: object_type, dtype: int64"
      ]
     },
     "execution_count": 5,
     "metadata": {},
     "output_type": "execute_result"
    }
   ],
   "source": [
    "data['object_type'].value_counts()"
   ]
  },
  {
   "cell_type": "code",
   "execution_count": 6,
   "metadata": {},
   "outputs": [
    {
     "data": {
      "text/plain": [
       "15366"
      ]
     },
     "execution_count": 6,
     "metadata": {},
     "output_type": "execute_result"
    }
   ],
   "source": [
    "# проверяем, все ли Id уникальные\n",
    "data['id'].nunique()"
   ]
  },
  {
   "cell_type": "code",
   "execution_count": 7,
   "metadata": {
    "scrolled": true
   },
   "outputs": [
    {
     "data": {
      "text/plain": [
       "<matplotlib.axes._subplots.AxesSubplot at 0x1d6d98a4408>"
      ]
     },
     "execution_count": 7,
     "metadata": {},
     "output_type": "execute_result"
    },
    {
     "data": {
      "image/png": "[encoded data removed]",
      "text/plain": [
       "<Figure size 432x288 with 1 Axes>"
      ]
     },
     "metadata": {},
     "output_type": "display_data"
    }
   ],
   "source": [
    "sns.distplot(data['number'])"
   ]
  },
  {
   "cell_type": "code",
   "execution_count": 8,
   "metadata": {},
   "outputs": [
    {
     "data": {
      "text/html": [
       "<div>\n",
       "<style scoped>\n",
       "    .dataframe tbody tr th:only-of-type {\n",
       "        vertical-align: middle;\n",
       "    }\n",
       "\n",
       "    .dataframe tbody tr th {\n",
       "        vertical-align: top;\n",
       "    }\n",
       "\n",
       "    .dataframe thead th {\n",
       "        text-align: right;\n",
       "    }\n",
       "</style>\n",
       "<table border=\"1\" class=\"dataframe\">\n",
       "  <thead>\n",
       "    <tr style=\"text-align: right;\">\n",
       "      <th></th>\n",
       "      <th>id</th>\n",
       "      <th>object_name</th>\n",
       "      <th>chain</th>\n",
       "      <th>object_type</th>\n",
       "      <th>address</th>\n",
       "      <th>number</th>\n",
       "    </tr>\n",
       "  </thead>\n",
       "  <tbody>\n",
       "    <tr>\n",
       "      <th>12723</th>\n",
       "      <td>199696</td>\n",
       "      <td>Arena by Soho Family</td>\n",
       "      <td>нет</td>\n",
       "      <td>бар</td>\n",
       "      <td>город Москва, Кутузовский проспект, дом 36, строение 11</td>\n",
       "      <td>1700</td>\n",
       "    </tr>\n",
       "  </tbody>\n",
       "</table>\n",
       "</div>"
      ],
      "text/plain": [
       "           id           object_name chain object_type  \\\n",
       "12723  199696  Arena by Soho Family   нет         бар   \n",
       "\n",
       "                                                       address  number  \n",
       "12723  город Москва, Кутузовский проспект, дом 36, строение 11    1700  "
      ]
     },
     "execution_count": 8,
     "metadata": {},
     "output_type": "execute_result"
    }
   ],
   "source": [
    "data[data['number']>1500]"
   ]
  },
  {
   "cell_type": "markdown",
   "metadata": {},
   "source": [
    "Что мы проверили:\n",
    "- все ячейки заполнены\n",
    "- chain указан как да/нет, никаких других вариантов\n",
    "- object_type прописан без ошибок и дубликатов\n",
    "- все id уникальны\n",
    "- количество посадочных мест в одном месте большое, и это правда, оно такое.\n",
    "\n",
    "Нужно проверить адреса и выделить отдельный столбец с улицей."
   ]
  },
  {
   "cell_type": "code",
   "execution_count": 9,
   "metadata": {},
   "outputs": [],
   "source": [
    "# не везде прописан город Москва\n",
    "data['city'] = data['address'].str.contains('город Москва,', regex=False)\n",
    "data.loc[data['city'] == False, 'address'] = 'город Москва,' + data['address']"
   ]
  },
  {
   "cell_type": "code",
   "execution_count": 10,
   "metadata": {},
   "outputs": [
    {
     "data": {
      "text/html": [
       "<div>\n",
       "<style scoped>\n",
       "    .dataframe tbody tr th:only-of-type {\n",
       "        vertical-align: middle;\n",
       "    }\n",
       "\n",
       "    .dataframe tbody tr th {\n",
       "        vertical-align: top;\n",
       "    }\n",
       "\n",
       "    .dataframe thead th {\n",
       "        text-align: right;\n",
       "    }\n",
       "</style>\n",
       "<table border=\"1\" class=\"dataframe\">\n",
       "  <thead>\n",
       "    <tr style=\"text-align: right;\">\n",
       "      <th></th>\n",
       "      <th>id</th>\n",
       "      <th>object_name</th>\n",
       "      <th>chain</th>\n",
       "      <th>object_type</th>\n",
       "      <th>address</th>\n",
       "      <th>number</th>\n",
       "      <th>street</th>\n",
       "    </tr>\n",
       "  </thead>\n",
       "  <tbody>\n",
       "    <tr>\n",
       "      <th>0</th>\n",
       "      <td>151635</td>\n",
       "      <td>СМЕТАНА</td>\n",
       "      <td>нет</td>\n",
       "      <td>кафе</td>\n",
       "      <td>город Москва, улица Егора Абакумова, дом 9</td>\n",
       "      <td>48</td>\n",
       "      <td>улица Егора Абакумова</td>\n",
       "    </tr>\n",
       "    <tr>\n",
       "      <th>1</th>\n",
       "      <td>77874</td>\n",
       "      <td>Родник</td>\n",
       "      <td>нет</td>\n",
       "      <td>кафе</td>\n",
       "      <td>город Москва, улица Талалихина, дом 2/1, корпус 1</td>\n",
       "      <td>35</td>\n",
       "      <td>улица Талалихина</td>\n",
       "    </tr>\n",
       "    <tr>\n",
       "      <th>2</th>\n",
       "      <td>24309</td>\n",
       "      <td>Кафе «Академия»</td>\n",
       "      <td>нет</td>\n",
       "      <td>кафе</td>\n",
       "      <td>город Москва, Абельмановская улица, дом 6</td>\n",
       "      <td>95</td>\n",
       "      <td>Абельмановская улица</td>\n",
       "    </tr>\n",
       "    <tr>\n",
       "      <th>3</th>\n",
       "      <td>21894</td>\n",
       "      <td>ПИЦЦЕТОРИЯ</td>\n",
       "      <td>да</td>\n",
       "      <td>кафе</td>\n",
       "      <td>город Москва, Абрамцевская улица, дом 1</td>\n",
       "      <td>40</td>\n",
       "      <td>Абрамцевская улица</td>\n",
       "    </tr>\n",
       "    <tr>\n",
       "      <th>4</th>\n",
       "      <td>119365</td>\n",
       "      <td>Кафе «Вишневая метель»</td>\n",
       "      <td>нет</td>\n",
       "      <td>кафе</td>\n",
       "      <td>город Москва, Абрамцевская улица, дом 9, корпус 1</td>\n",
       "      <td>50</td>\n",
       "      <td>Абрамцевская улица</td>\n",
       "    </tr>\n",
       "  </tbody>\n",
       "</table>\n",
       "</div>"
      ],
      "text/plain": [
       "       id             object_name chain object_type  \\\n",
       "0  151635                 СМЕТАНА   нет        кафе   \n",
       "1   77874                  Родник   нет        кафе   \n",
       "2   24309         Кафе «Академия»   нет        кафе   \n",
       "3   21894              ПИЦЦЕТОРИЯ    да        кафе   \n",
       "4  119365  Кафе «Вишневая метель»   нет        кафе   \n",
       "\n",
       "                                             address  number  \\\n",
       "0         город Москва, улица Егора Абакумова, дом 9      48   \n",
       "1  город Москва, улица Талалихина, дом 2/1, корпус 1      35   \n",
       "2          город Москва, Абельмановская улица, дом 6      95   \n",
       "3            город Москва, Абрамцевская улица, дом 1      40   \n",
       "4  город Москва, Абрамцевская улица, дом 9, корпус 1      50   \n",
       "\n",
       "                   street  \n",
       "0   улица Егора Абакумова  \n",
       "1        улица Талалихина  \n",
       "2    Абельмановская улица  \n",
       "3      Абрамцевская улица  \n",
       "4      Абрамцевская улица  "
      ]
     },
     "execution_count": 10,
     "metadata": {},
     "output_type": "execute_result"
    }
   ],
   "source": [
    "# отдельный столбец с улицей\n",
    "pattern = '\\,(([а-яА-Я0-9\\-ё\\s]+)?(площадь|улица|переулок|шоссе|проезд|проспект|набережная|бульвар|аллея|линия)([а-яА-Яё0-9\\-ё\\s]+)?)\\,'\n",
    "\n",
    "data['street'] = data['address'].str.extract(pat = pattern)[0]\n",
    "data.drop('city', axis = 1, inplace = True)\n",
    "data.head()"
   ]
  },
  {
   "cell_type": "markdown",
   "metadata": {},
   "source": [
    "##  2. Дополнение данных <a name=\"2\"></a>"
   ]
  },
  {
   "cell_type": "markdown",
   "metadata": {},
   "source": [
    "Используем [геокодер Яндекса](https://tech.yandex.ru/maps/geocoder/doc/desc/concepts/input_params-docpage/), чтобы получить координаты для всех точек. Затем можно будет получить район (это нужно для анализа, в каких районах Москвы находятся улицы с самым большим и маленьким количеством объектов питания), а координаты использовать для визуализации геоданных. \n",
    "\n",
    "Район лучше получать именно отсюда: простого словарика \"как улицы соотносятся с районами\" было бы недостаточно, одна улица может находиться в нескольких районах. Выберем тот, в котором, собственно, находится объект общественного питания. "
   ]
  },
  {
   "cell_type": "code",
   "execution_count": 11,
   "metadata": {},
   "outputs": [],
   "source": [
    "URL = 'https://geocode-maps.yandex.ru/1.x'\n",
    "\n",
    "# получение координат\n",
    "def geocode(address):\n",
    "    params = { \n",
    "        \"geocode\" : address, \n",
    "        \"apikey\": apikey,\n",
    "        \"format\": \"json\"\n",
    "        }\n",
    "    response = requests.get(URL, params=params)\n",
    "    response_json = response.json()\n",
    "    try:\n",
    "        return response_json['response']['GeoObjectCollection']['featureMember'][0]['GeoObject']['Point']['pos']\n",
    "    except Exception as e:\n",
    "        print(\"for address\", address)\n",
    "        print(\"result is\", response_json)\n",
    "        print(\"which raises\", e)\n",
    "        return \"\""
   ]
  },
  {
   "cell_type": "code",
   "execution_count": 12,
   "metadata": {},
   "outputs": [],
   "source": [
    "# получение района из координат\n",
    "def reverse_geocode(coordinates):\n",
    "    params = { \n",
    "        \"geocode\" : coordinates, \n",
    "        \"apikey\": apikey,\n",
    "        \"format\": \"json\", \n",
    "        \"kind\" : \"district\"\n",
    "        }\n",
    "    response = requests.get(URL, params=params)\n",
    "    response_json = response.json()\n",
    "    try:\n",
    "        return (response_json['response']['GeoObjectCollection']['featureMember'][0]['GeoObject']['metaDataProperty']\n",
    "                ['GeocoderMetaData']['AddressDetails']['Country']['AddressLine'])\n",
    "    except Exception as e:\n",
    "        print(\"for coordinates\", coordinates)\n",
    "        print(\"result is\", response_json)\n",
    "        print(\"which raises\", e)\n",
    "        return \"\""
   ]
  },
  {
   "cell_type": "code",
   "execution_count": 13,
   "metadata": {},
   "outputs": [
    {
     "data": {
      "text/html": [
       "<div>\n",
       "<style scoped>\n",
       "    .dataframe tbody tr th:only-of-type {\n",
       "        vertical-align: middle;\n",
       "    }\n",
       "\n",
       "    .dataframe tbody tr th {\n",
       "        vertical-align: top;\n",
       "    }\n",
       "\n",
       "    .dataframe thead th {\n",
       "        text-align: right;\n",
       "    }\n",
       "</style>\n",
       "<table border=\"1\" class=\"dataframe\">\n",
       "  <thead>\n",
       "    <tr style=\"text-align: right;\">\n",
       "      <th></th>\n",
       "      <th>id</th>\n",
       "      <th>object_name</th>\n",
       "      <th>chain</th>\n",
       "      <th>object_type</th>\n",
       "      <th>address</th>\n",
       "      <th>number</th>\n",
       "      <th>street</th>\n",
       "      <th>coordinates</th>\n",
       "      <th>district</th>\n",
       "    </tr>\n",
       "  </thead>\n",
       "  <tbody>\n",
       "    <tr>\n",
       "      <th>0</th>\n",
       "      <td>151635</td>\n",
       "      <td>СМЕТАНА</td>\n",
       "      <td>нет</td>\n",
       "      <td>кафе</td>\n",
       "      <td>город Москва, улица Егора Абакумова, дом 9</td>\n",
       "      <td>48</td>\n",
       "      <td>улица Егора Абакумова</td>\n",
       "      <td>37.714474 55.879005</td>\n",
       "      <td>Россия, Москва, Северо-Восточный административный округ, Ярославский район</td>\n",
       "    </tr>\n",
       "    <tr>\n",
       "      <th>1</th>\n",
       "      <td>77874</td>\n",
       "      <td>Родник</td>\n",
       "      <td>нет</td>\n",
       "      <td>кафе</td>\n",
       "      <td>город Москва, улица Талалихина, дом 2/1, корпус 1</td>\n",
       "      <td>35</td>\n",
       "      <td>улица Талалихина</td>\n",
       "      <td>37.673295 55.738307</td>\n",
       "      <td>Россия, Москва, Центральный административный округ, Таганский район</td>\n",
       "    </tr>\n",
       "    <tr>\n",
       "      <th>2</th>\n",
       "      <td>24309</td>\n",
       "      <td>Кафе «Академия»</td>\n",
       "      <td>нет</td>\n",
       "      <td>кафе</td>\n",
       "      <td>город Москва, Абельмановская улица, дом 6</td>\n",
       "      <td>95</td>\n",
       "      <td>Абельмановская улица</td>\n",
       "      <td>37.669576 55.735571</td>\n",
       "      <td>Россия, Москва, Центральный административный округ, Таганский район</td>\n",
       "    </tr>\n",
       "    <tr>\n",
       "      <th>3</th>\n",
       "      <td>21894</td>\n",
       "      <td>ПИЦЦЕТОРИЯ</td>\n",
       "      <td>да</td>\n",
       "      <td>кафе</td>\n",
       "      <td>город Москва, Абрамцевская улица, дом 1</td>\n",
       "      <td>40</td>\n",
       "      <td>Абрамцевская улица</td>\n",
       "      <td>37.573007 55.892713</td>\n",
       "      <td>Россия, Москва, Северо-Восточный административный округ, район Лианозово</td>\n",
       "    </tr>\n",
       "    <tr>\n",
       "      <th>4</th>\n",
       "      <td>119365</td>\n",
       "      <td>Кафе «Вишневая метель»</td>\n",
       "      <td>нет</td>\n",
       "      <td>кафе</td>\n",
       "      <td>город Москва, Абрамцевская улица, дом 9, корпус 1</td>\n",
       "      <td>50</td>\n",
       "      <td>Абрамцевская улица</td>\n",
       "      <td>37.572279 55.904074</td>\n",
       "      <td>Россия, Москва, Северо-Восточный административный округ, район Лианозово</td>\n",
       "    </tr>\n",
       "  </tbody>\n",
       "</table>\n",
       "</div>"
      ],
      "text/plain": [
       "       id             object_name chain object_type  \\\n",
       "0  151635                 СМЕТАНА   нет        кафе   \n",
       "1   77874                  Родник   нет        кафе   \n",
       "2   24309         Кафе «Академия»   нет        кафе   \n",
       "3   21894              ПИЦЦЕТОРИЯ    да        кафе   \n",
       "4  119365  Кафе «Вишневая метель»   нет        кафе   \n",
       "\n",
       "                                             address  number  \\\n",
       "0         город Москва, улица Егора Абакумова, дом 9      48   \n",
       "1  город Москва, улица Талалихина, дом 2/1, корпус 1      35   \n",
       "2          город Москва, Абельмановская улица, дом 6      95   \n",
       "3            город Москва, Абрамцевская улица, дом 1      40   \n",
       "4  город Москва, Абрамцевская улица, дом 9, корпус 1      50   \n",
       "\n",
       "                   street          coordinates  \\\n",
       "0   улица Егора Абакумова  37.714474 55.879005   \n",
       "1        улица Талалихина  37.673295 55.738307   \n",
       "2    Абельмановская улица  37.669576 55.735571   \n",
       "3      Абрамцевская улица  37.573007 55.892713   \n",
       "4      Абрамцевская улица  37.572279 55.904074   \n",
       "\n",
       "                                                                     district  \n",
       "0  Россия, Москва, Северо-Восточный административный округ, Ярославский район  \n",
       "1         Россия, Москва, Центральный административный округ, Таганский район  \n",
       "2         Россия, Москва, Центральный административный округ, Таганский район  \n",
       "3    Россия, Москва, Северо-Восточный административный округ, район Лианозово  \n",
       "4    Россия, Москва, Северо-Восточный административный округ, район Лианозово  "
      ]
     },
     "execution_count": 13,
     "metadata": {},
     "output_type": "execute_result"
    }
   ],
   "source": [
    "#data['coordinates'] = data['address'].apply(geocode)\n",
    "#data['district'] = data['coordinates'].apply(reverse_geocode)\n",
    "#data.to_csv('./rest_coordinates.csv')\n",
    "data_coord = pd.read_csv('./rest_coordinates.csv', index_col = 0)\n",
    "data_coord.head()"
   ]
  },
  {
   "cell_type": "markdown",
   "metadata": {},
   "source": [
    "Адреса, которые не геокодировались, расположены на МКАД в основном. Их мало, можно не обращать внимания."
   ]
  },
  {
   "cell_type": "code",
   "execution_count": 14,
   "metadata": {},
   "outputs": [
    {
     "data": {
      "text/plain": [
       "32"
      ]
     },
     "execution_count": 14,
     "metadata": {},
     "output_type": "execute_result"
    }
   ],
   "source": [
    "len(data_coord[data_coord['coordinates'].isnull()])"
   ]
  },
  {
   "cell_type": "code",
   "execution_count": 15,
   "metadata": {},
   "outputs": [],
   "source": [
    "# две отдельные колонки lon lat\n",
    "coordinates = data_coord['coordinates'].str.split(\" \", expand = True)\n",
    "coordinates.columns = ['lon', 'lat']"
   ]
  },
  {
   "cell_type": "code",
   "execution_count": 16,
   "metadata": {},
   "outputs": [],
   "source": [
    "data_coord = data_coord.join(coordinates)"
   ]
  },
  {
   "cell_type": "code",
   "execution_count": 17,
   "metadata": {},
   "outputs": [],
   "source": [
    "# приведение их к нужному типу\n",
    "data_coord['lon'] = data_coord['lon'].astype('float64')\n",
    "data_coord['lat'] = data_coord['lat'].astype('float64')"
   ]
  },
  {
   "cell_type": "markdown",
   "metadata": {},
   "source": [
    "Округ и район не получаются для Новой Москвы и Зеленограда, можно так и приписать. \n",
    "Еще есть одна смешная ошибка - Деловой квартал \"Симоновский\" не имеет округа и района. Есть еще мелкие ошибки, где-то вместо округа и района на этом месте прописан жилой комплекс, но это уже не так существенно."
   ]
  },
  {
   "cell_type": "code",
   "execution_count": 18,
   "metadata": {},
   "outputs": [],
   "source": [
    "# выделение информации об округе из полученных данных о районе\n",
    "pattern = '\\,(([а-яА-Я\\-ё\\s]+)?(административный округ)()?)\\,'\n",
    "\n",
    "data_coord['okrug'] = data_coord['district'].str.extract(pat = pattern)[0]"
   ]
  },
  {
   "cell_type": "code",
   "execution_count": 19,
   "metadata": {},
   "outputs": [],
   "source": [
    "# выделение информации о районе из полученных данных\n",
    "pattern = '\\,(([а-яА-Я0-9\\-ё\\s]+)?(район|район )([а-яА-Я0-9\\-ё\\s]+)?)'\n",
    "\n",
    "data_coord['rayon'] = data_coord['district'].str.extract(pat = pattern)[0]"
   ]
  },
  {
   "cell_type": "code",
   "execution_count": 20,
   "metadata": {},
   "outputs": [],
   "source": [
    "# ТиНАО\n",
    "data_coord.loc[(data_coord['okrug'].isnull())&(data_coord['coordinates'].notnull()), 'okrug'] = 'ТиНАО'\n",
    "\n",
    "# Зеленоград\n",
    "data_coord.loc[data_coord['district'].str.startswith('Россия, Москва, Зеленоград', na=False), 'okrug'] = 'Зеленоградский административный округ'\n",
    "\n",
    "# Деловой квартал \"Симоновский\"\n",
    "data_coord.loc[data_coord['district'] == 'Россия, Москва, Деловой квартал Симоновский', 'okrug'] = ' Южный административный округ'\n",
    "data_coord.loc[data_coord['district'] == 'Россия, Москва, Деловой квартал Симоновский', 'rayon'] = 'Даниловский район'"
   ]
  },
  {
   "cell_type": "code",
   "execution_count": 21,
   "metadata": {},
   "outputs": [
    {
     "data": {
      "text/html": [
       "<div>\n",
       "<style scoped>\n",
       "    .dataframe tbody tr th:only-of-type {\n",
       "        vertical-align: middle;\n",
       "    }\n",
       "\n",
       "    .dataframe tbody tr th {\n",
       "        vertical-align: top;\n",
       "    }\n",
       "\n",
       "    .dataframe thead th {\n",
       "        text-align: right;\n",
       "    }\n",
       "</style>\n",
       "<table border=\"1\" class=\"dataframe\">\n",
       "  <thead>\n",
       "    <tr style=\"text-align: right;\">\n",
       "      <th></th>\n",
       "      <th>id</th>\n",
       "      <th>object_name</th>\n",
       "      <th>chain</th>\n",
       "      <th>object_type</th>\n",
       "      <th>address</th>\n",
       "      <th>number</th>\n",
       "      <th>street</th>\n",
       "      <th>coordinates</th>\n",
       "      <th>district</th>\n",
       "      <th>lon</th>\n",
       "      <th>lat</th>\n",
       "      <th>okrug</th>\n",
       "      <th>rayon</th>\n",
       "    </tr>\n",
       "  </thead>\n",
       "  <tbody>\n",
       "    <tr>\n",
       "      <th>0</th>\n",
       "      <td>151635</td>\n",
       "      <td>СМЕТАНА</td>\n",
       "      <td>нет</td>\n",
       "      <td>кафе</td>\n",
       "      <td>город Москва, улица Егора Абакумова, дом 9</td>\n",
       "      <td>48</td>\n",
       "      <td>улица Егора Абакумова</td>\n",
       "      <td>37.714474 55.879005</td>\n",
       "      <td>Россия, Москва, Северо-Восточный административный округ, Ярославский район</td>\n",
       "      <td>37.714474</td>\n",
       "      <td>55.879005</td>\n",
       "      <td>Северо-Восточный административный округ</td>\n",
       "      <td>Ярославский район</td>\n",
       "    </tr>\n",
       "    <tr>\n",
       "      <th>1</th>\n",
       "      <td>77874</td>\n",
       "      <td>Родник</td>\n",
       "      <td>нет</td>\n",
       "      <td>кафе</td>\n",
       "      <td>город Москва, улица Талалихина, дом 2/1, корпус 1</td>\n",
       "      <td>35</td>\n",
       "      <td>улица Талалихина</td>\n",
       "      <td>37.673295 55.738307</td>\n",
       "      <td>Россия, Москва, Центральный административный округ, Таганский район</td>\n",
       "      <td>37.673295</td>\n",
       "      <td>55.738307</td>\n",
       "      <td>Центральный административный округ</td>\n",
       "      <td>Таганский район</td>\n",
       "    </tr>\n",
       "    <tr>\n",
       "      <th>2</th>\n",
       "      <td>24309</td>\n",
       "      <td>Кафе «Академия»</td>\n",
       "      <td>нет</td>\n",
       "      <td>кафе</td>\n",
       "      <td>город Москва, Абельмановская улица, дом 6</td>\n",
       "      <td>95</td>\n",
       "      <td>Абельмановская улица</td>\n",
       "      <td>37.669576 55.735571</td>\n",
       "      <td>Россия, Москва, Центральный административный округ, Таганский район</td>\n",
       "      <td>37.669576</td>\n",
       "      <td>55.735571</td>\n",
       "      <td>Центральный административный округ</td>\n",
       "      <td>Таганский район</td>\n",
       "    </tr>\n",
       "    <tr>\n",
       "      <th>3</th>\n",
       "      <td>21894</td>\n",
       "      <td>ПИЦЦЕТОРИЯ</td>\n",
       "      <td>да</td>\n",
       "      <td>кафе</td>\n",
       "      <td>город Москва, Абрамцевская улица, дом 1</td>\n",
       "      <td>40</td>\n",
       "      <td>Абрамцевская улица</td>\n",
       "      <td>37.573007 55.892713</td>\n",
       "      <td>Россия, Москва, Северо-Восточный административный округ, район Лианозово</td>\n",
       "      <td>37.573007</td>\n",
       "      <td>55.892713</td>\n",
       "      <td>Северо-Восточный административный округ</td>\n",
       "      <td>район Лианозово</td>\n",
       "    </tr>\n",
       "    <tr>\n",
       "      <th>4</th>\n",
       "      <td>119365</td>\n",
       "      <td>Кафе «Вишневая метель»</td>\n",
       "      <td>нет</td>\n",
       "      <td>кафе</td>\n",
       "      <td>город Москва, Абрамцевская улица, дом 9, корпус 1</td>\n",
       "      <td>50</td>\n",
       "      <td>Абрамцевская улица</td>\n",
       "      <td>37.572279 55.904074</td>\n",
       "      <td>Россия, Москва, Северо-Восточный административный округ, район Лианозово</td>\n",
       "      <td>37.572279</td>\n",
       "      <td>55.904074</td>\n",
       "      <td>Северо-Восточный административный округ</td>\n",
       "      <td>район Лианозово</td>\n",
       "    </tr>\n",
       "  </tbody>\n",
       "</table>\n",
       "</div>"
      ],
      "text/plain": [
       "       id             object_name chain object_type  \\\n",
       "0  151635                 СМЕТАНА   нет        кафе   \n",
       "1   77874                  Родник   нет        кафе   \n",
       "2   24309         Кафе «Академия»   нет        кафе   \n",
       "3   21894              ПИЦЦЕТОРИЯ    да        кафе   \n",
       "4  119365  Кафе «Вишневая метель»   нет        кафе   \n",
       "\n",
       "                                             address  number  \\\n",
       "0         город Москва, улица Егора Абакумова, дом 9      48   \n",
       "1  город Москва, улица Талалихина, дом 2/1, корпус 1      35   \n",
       "2          город Москва, Абельмановская улица, дом 6      95   \n",
       "3            город Москва, Абрамцевская улица, дом 1      40   \n",
       "4  город Москва, Абрамцевская улица, дом 9, корпус 1      50   \n",
       "\n",
       "                   street          coordinates  \\\n",
       "0   улица Егора Абакумова  37.714474 55.879005   \n",
       "1        улица Талалихина  37.673295 55.738307   \n",
       "2    Абельмановская улица  37.669576 55.735571   \n",
       "3      Абрамцевская улица  37.573007 55.892713   \n",
       "4      Абрамцевская улица  37.572279 55.904074   \n",
       "\n",
       "                                                                     district  \\\n",
       "0  Россия, Москва, Северо-Восточный административный округ, Ярославский район   \n",
       "1         Россия, Москва, Центральный административный округ, Таганский район   \n",
       "2         Россия, Москва, Центральный административный округ, Таганский район   \n",
       "3    Россия, Москва, Северо-Восточный административный округ, район Лианозово   \n",
       "4    Россия, Москва, Северо-Восточный административный округ, район Лианозово   \n",
       "\n",
       "         lon        lat                                     okrug  \\\n",
       "0  37.714474  55.879005   Северо-Восточный административный округ   \n",
       "1  37.673295  55.738307        Центральный административный округ   \n",
       "2  37.669576  55.735571        Центральный административный округ   \n",
       "3  37.573007  55.892713   Северо-Восточный административный округ   \n",
       "4  37.572279  55.904074   Северо-Восточный административный округ   \n",
       "\n",
       "                rayon  \n",
       "0   Ярославский район  \n",
       "1     Таганский район  \n",
       "2     Таганский район  \n",
       "3     район Лианозово  \n",
       "4     район Лианозово  "
      ]
     },
     "execution_count": 21,
     "metadata": {},
     "output_type": "execute_result"
    }
   ],
   "source": [
    "data_coord.head()"
   ]
  },
  {
   "cell_type": "code",
   "execution_count": 22,
   "metadata": {},
   "outputs": [],
   "source": [
    "config_1 = {'version': 'v1',\n",
    " 'config': {'visState': {'filters': [],\n",
    "   'layers': [{'id': 's2s35nh',\n",
    "     'type': 'grid',\n",
    "     'config': {'dataId': 'food_points',\n",
    "      'label': 'Point',\n",
    "      'color': [18, 147, 154],\n",
    "      'columns': {'lat': 'lat', 'lng': 'lon'},\n",
    "      'isVisible': True,\n",
    "      'visConfig': {'opacity': 0.8,\n",
    "       'worldUnitSize': 0.7,\n",
    "       'colorRange': {'name': 'ColorBrewer GnBu-9',\n",
    "        'type': 'sequential',\n",
    "        'category': 'ColorBrewer',\n",
    "        'colors': ['#084081',\n",
    "         '#0868ac',\n",
    "         '#2b8cbe',\n",
    "         '#4eb3d3',\n",
    "         '#7bccc4',\n",
    "         '#a8ddb5',\n",
    "         '#ccebc5',\n",
    "         '#e0f3db',\n",
    "         '#f7fcf0'],\n",
    "        'reversed': True},\n",
    "       'coverage': 1,\n",
    "       'sizeRange': [0, 500],\n",
    "       'percentile': [0, 100],\n",
    "       'elevationPercentile': [0, 100],\n",
    "       'elevationScale': 5,\n",
    "       'colorAggregation': 'sum',\n",
    "       'sizeAggregation': 'sum',\n",
    "       'enable3d': True},\n",
    "      'textLabel': [{'field': None,\n",
    "        'color': [255, 255, 255],\n",
    "        'size': 18,\n",
    "        'offset': [0, 0],\n",
    "        'anchor': 'start',\n",
    "        'alignment': 'center'}]},\n",
    "     'visualChannels': {'colorField': {'name': 'number', 'type': 'integer'},\n",
    "      'colorScale': 'quantize',\n",
    "      'sizeField': {'name': 'number', 'type': 'integer'},\n",
    "      'sizeScale': 'linear'}}],\n",
    "   'interactionConfig': {'tooltip': {'fieldsToShow': {'food_points': ['id',\n",
    "       'object_name',\n",
    "       'chain']},\n",
    "     'enabled': True},\n",
    "    'brush': {'size': 0.5, 'enabled': False}},\n",
    "   'layerBlending': 'normal',\n",
    "   'splitMaps': [],\n",
    "   'animationConfig': {'currentTime': None, 'speed': 1}},\n",
    "  'mapState': {'bearing': 24,\n",
    "   'dragRotate': True,\n",
    "   'latitude': 55.71125246810893,\n",
    "   'longitude': 37.567937909753205,\n",
    "   'pitch': 50,\n",
    "   'zoom': 10.614783279523946,\n",
    "   'isSplit': False},\n",
    "  'mapStyle': {'styleType': 'dark',\n",
    "   'topLayerGroups': {},\n",
    "   'visibleLayerGroups': {'label': True,\n",
    "    'road': True,\n",
    "    'border': False,\n",
    "    'building': True,\n",
    "    'water': True,\n",
    "    'land': True,\n",
    "    '3d building': False},\n",
    "   'threeDBuildingColor': [9.665468314072013,\n",
    "    17.18305478057247,\n",
    "    31.1442867897876],\n",
    "   'mapStyles': {}}}}"
   ]
  },
  {
   "cell_type": "code",
   "execution_count": 23,
   "metadata": {},
   "outputs": [
    {
     "name": "stdout",
     "output_type": "stream",
     "text": [
      "User Guide: https://github.com/keplergl/kepler.gl/blob/master/docs/keplergl-jupyter/user-guide.md\n",
      "Map saved to map_1_density.html!\n"
     ]
    }
   ],
   "source": [
    "map_1 = KeplerGl(height=700)\n",
    "\n",
    "map_1.add_data(data=data_coord, name='food_points')\n",
    "map_1.config = config_1\n",
    "map_1.save_to_html(file_name='map_1_density.html')\n"
   ]
  },
  {
   "cell_type": "markdown",
   "metadata": {},
   "source": [
    "Визуализация показывает суммарное количество посадочных мест на ячейку сетки; наибольшая концентрация в центре города, внутри Бульварного кольца, и в Москве-сити. Еще высокие значения: вдоль Тверской, на Новокузнецкой, на Таганке, на Киевской и вдоль Арбата. Без сюрпризов, но все равно интересно. Посмотрим также, как распределяется количество заведений по округам."
   ]
  },
  {
   "cell_type": "code",
   "execution_count": 24,
   "metadata": {},
   "outputs": [
    {
     "data": {
      "text/plain": [
       "<seaborn.axisgrid.FacetGrid at 0x1d6db1242c8>"
      ]
     },
     "execution_count": 24,
     "metadata": {},
     "output_type": "execute_result"
    },
    {
     "data": {
      "image/png": "[encoded data removed]",
      "text/plain": [
       "<Figure size 540x360 with 1 Axes>"
      ]
     },
     "metadata": {},
     "output_type": "display_data"
    }
   ],
   "source": [
    "okrug = data_coord['okrug'].value_counts(normalize=True).mul(100)\\\n",
    ".rename('okrug').reset_index()\n",
    "\n",
    "g = sns.catplot(y=\"index\", x = 'okrug', kind = 'bar', data=okrug, palette=\"Blues_d\", height=5, aspect=1.5)\n",
    "g.set_ylabels(\"Административный округ\")\n",
    "g.set_xlabels(\"Процент объектов\")"
   ]
  },
  {
   "cell_type": "markdown",
   "metadata": {},
   "source": [
    "##  3. Анализ данных <a name=\"3\"></a>"
   ]
  },
  {
   "cell_type": "markdown",
   "metadata": {},
   "source": [
    "### Соотношение видов объектов общественного питания по количеству <a name=\"3.1\"></a>"
   ]
  },
  {
   "cell_type": "code",
   "execution_count": 25,
   "metadata": {},
   "outputs": [
    {
     "data": {
      "text/plain": [
       "<seaborn.axisgrid.FacetGrid at 0x1d6dbc9c448>"
      ]
     },
     "execution_count": 25,
     "metadata": {},
     "output_type": "execute_result"
    },
    {
     "data": {
      "image/png": "[encoded data removed]",
      "text/plain": [
       "<Figure size 720x360 with 1 Axes>"
      ]
     },
     "metadata": {},
     "output_type": "display_data"
    }
   ],
   "source": [
    "# процент каждого вида от общего числа заведений\n",
    "percent = data_coord['object_type'].value_counts(normalize=True).mul(100)\\\n",
    ".rename('percent').reset_index()\n",
    "\n",
    "g = sns.catplot(y=\"index\", x = 'percent', kind = 'bar', data=percent, palette=\"Blues_d\", height=5, aspect=2)\n",
    "g.set_ylabels(\"Тип объекта\")\n",
    "g.set_xlabels(\"Процент объектов\")"
   ]
  },
  {
   "cell_type": "markdown",
   "metadata": {},
   "source": [
    "Ну, тут вопрос, откуда данные. Почти 40% - кафе, еще примерно по 15% - столовая и ресторан, еще 12% - фастфуд. Кафе и ресторан - самые расплывчатые категории, нет четких критериев, которым они должны соответствовать, скорее всего, это то, в какую категорию заведение относит себя само; где, например, граница между рестораном и баром - это вопрос."
   ]
  },
  {
   "cell_type": "markdown",
   "metadata": {},
   "source": [
    "### Соотношение сетевых и несетевых заведений по количеству <a name=\"3.2\"></a>"
   ]
  },
  {
   "cell_type": "code",
   "execution_count": 26,
   "metadata": {},
   "outputs": [
    {
     "data": {
      "text/plain": [
       "<seaborn.axisgrid.FacetGrid at 0x1d6dba7c808>"
      ]
     },
     "execution_count": 26,
     "metadata": {},
     "output_type": "execute_result"
    },
    {
     "data": {
      "image/png": "[encoded data removed]",
      "text/plain": [
       "<Figure size 288x144 with 1 Axes>"
      ]
     },
     "metadata": {},
     "output_type": "display_data"
    }
   ],
   "source": [
    "# процент каждого вида от общего числа заведений\n",
    "percent_total = data_coord['chain'].value_counts(normalize=True).mul(100)\\\n",
    ".rename('percent').reset_index()\n",
    "\n",
    "g = sns.catplot(y=\"index\", x = 'percent', kind = 'bar', data=percent_total, palette=\"Blues_d\", height=2, aspect=2)\n",
    "g.set_ylabels(\"Сетевое заведение\")\n",
    "g.set_xlabels(\"Количество объектов\")"
   ]
  },
  {
   "cell_type": "markdown",
   "metadata": {},
   "source": [
    "80/20 - это неожиданный процент. Почему-то интуитивно казалось, что сетевых заведений должно быть больше. Но, видимо, столовых и маленьких одиночных кафе куда больше, чем кажется."
   ]
  },
  {
   "cell_type": "markdown",
   "metadata": {},
   "source": [
    "### Для какого вида объекта общественного питания характерно сетевое распространение <a name=\"3.3\"></a>"
   ]
  },
  {
   "cell_type": "code",
   "execution_count": 27,
   "metadata": {},
   "outputs": [
    {
     "data": {
      "text/plain": [
       "<seaborn.axisgrid.FacetGrid at 0x1d6da6bc988>"
      ]
     },
     "execution_count": 27,
     "metadata": {},
     "output_type": "execute_result"
    },
    {
     "data": {
      "image/png": "[encoded data removed]",
      "text/plain": [
       "<Figure size 771.625x360 with 1 Axes>"
      ]
     },
     "metadata": {},
     "output_type": "display_data"
    }
   ],
   "source": [
    "# процент сетевых заведений для каждого отдельного типа\n",
    "percent_chain = data_coord.groupby('object_type')['chain'].value_counts(normalize=True).mul(100)\\\n",
    ".rename('percent').reset_index()\n",
    "#график - процент сетевых заведений для каждого вида\n",
    "g=sns.catplot(y=\"object_type\", x='percent', hue='chain',kind='bar',data=percent_chain, palette=\"Blues_d\", height=5, aspect=2)\n",
    "g.set_ylabels(\"Тип объекта\")\n",
    "g.set_xlabels(\"Процент сетевых заведений\")"
   ]
  },
  {
   "cell_type": "markdown",
   "metadata": {},
   "source": [
    "Тут тоже без сюрпризов. Больше всего сетевое распространение характерно для фастфуда, магазинов с кулинарией и кафе. Почти нет сетевых столовых, баров и буфетов."
   ]
  },
  {
   "cell_type": "markdown",
   "metadata": {},
   "source": [
    "### Что характерно для сетевых заведений <a name=\"3.4\"></a>"
   ]
  },
  {
   "cell_type": "code",
   "execution_count": 28,
   "metadata": {},
   "outputs": [
    {
     "data": {
      "text/html": [
       "<div>\n",
       "<style scoped>\n",
       "    .dataframe tbody tr th:only-of-type {\n",
       "        vertical-align: middle;\n",
       "    }\n",
       "\n",
       "    .dataframe tbody tr th {\n",
       "        vertical-align: top;\n",
       "    }\n",
       "\n",
       "    .dataframe thead th {\n",
       "        text-align: right;\n",
       "    }\n",
       "</style>\n",
       "<table border=\"1\" class=\"dataframe\">\n",
       "  <thead>\n",
       "    <tr style=\"text-align: right;\">\n",
       "      <th></th>\n",
       "      <th>count</th>\n",
       "      <th>mean</th>\n",
       "      <th>std</th>\n",
       "      <th>min</th>\n",
       "      <th>25%</th>\n",
       "      <th>50%</th>\n",
       "      <th>75%</th>\n",
       "      <th>max</th>\n",
       "    </tr>\n",
       "    <tr>\n",
       "      <th>chain</th>\n",
       "      <th></th>\n",
       "      <th></th>\n",
       "      <th></th>\n",
       "      <th></th>\n",
       "      <th></th>\n",
       "      <th></th>\n",
       "      <th></th>\n",
       "      <th></th>\n",
       "    </tr>\n",
       "  </thead>\n",
       "  <tbody>\n",
       "    <tr>\n",
       "      <th>да</th>\n",
       "      <td>2968.0</td>\n",
       "      <td>52.919811</td>\n",
       "      <td>57.140644</td>\n",
       "      <td>0.0</td>\n",
       "      <td>15.0</td>\n",
       "      <td>40.0</td>\n",
       "      <td>72.0</td>\n",
       "      <td>580.0</td>\n",
       "    </tr>\n",
       "    <tr>\n",
       "      <th>нет</th>\n",
       "      <td>12398.0</td>\n",
       "      <td>61.133731</td>\n",
       "      <td>78.284046</td>\n",
       "      <td>0.0</td>\n",
       "      <td>12.0</td>\n",
       "      <td>40.0</td>\n",
       "      <td>80.0</td>\n",
       "      <td>1700.0</td>\n",
       "    </tr>\n",
       "  </tbody>\n",
       "</table>\n",
       "</div>"
      ],
      "text/plain": [
       "         count       mean        std  min   25%   50%   75%     max\n",
       "chain                                                              \n",
       "да      2968.0  52.919811  57.140644  0.0  15.0  40.0  72.0   580.0\n",
       "нет    12398.0  61.133731  78.284046  0.0  12.0  40.0  80.0  1700.0"
      ]
     },
     "execution_count": 28,
     "metadata": {},
     "output_type": "execute_result"
    }
   ],
   "source": [
    "data_coord.groupby('chain')['number'].describe()"
   ]
  },
  {
   "cell_type": "code",
   "execution_count": 29,
   "metadata": {},
   "outputs": [],
   "source": [
    "# почистим самые заметные проблемы с названиями\n",
    "data_coord['object_name'].replace('ШОКОЛАДНИЦА', 'Шоколадница', inplace = True)\n",
    "data_coord['object_name'].replace('МАКДОНАЛДС', 'Макдоналдс', inplace = True)\n",
    "data_coord['object_name'].replace('Старбакс', 'Starbucks', inplace = True)\n",
    "data_coord['object_name'].replace('Кафе «Шоколадница»', 'Шоколадница', inplace = True)\n",
    "data_coord['object_name'].replace('Кафе «KFC»', 'KFC', inplace = True)\n",
    "data_coord['object_name'].replace('Сабвей', 'Subway', inplace = True)\n",
    "data_coord['object_name'].replace('Ресторан «Макдоналдс»', 'Макдоналдс', inplace = True)\n",
    "data_coord['object_name'].replace('Братья Караваевы', 'Кулинарная лавка братьев Караваевых', inplace = True)\n",
    "data_coord['object_name'].replace('БУРГЕР КИНГ', 'Бургер Кинг', inplace = True)\n",
    "data_coord['object_name'].replace('ТЕРЕМОК', 'Теремок', inplace = True)\n",
    "data_coord['object_name'].replace('МУ-МУ', 'Му-Му', inplace = True)\n",
    "data_coord['object_name'].replace('Додо пицца', 'Додо Пицца', inplace = True)\n",
    "data_coord['object_name'].replace('Прайм', 'Прайм стар', inplace = True)\n",
    "data_coord['object_name'].replace('Хлеб Насущный', 'Хлеб насущный', inplace = True)\n",
    "data_coord['object_name'].replace('Суши Вок', 'Суши Wok', inplace = True)"
   ]
  },
  {
   "cell_type": "code",
   "execution_count": 30,
   "metadata": {},
   "outputs": [
    {
     "data": {
      "text/plain": [
       "Text(0.5, 0, 'Среднее количество посадочных мест')"
      ]
     },
     "execution_count": 30,
     "metadata": {},
     "output_type": "execute_result"
    },
    {
     "data": {
      "image/png": "[encoded data removed]",
      "text/plain": [
       "<Figure size 432x288 with 1 Axes>"
      ]
     },
     "metadata": {},
     "output_type": "display_data"
    }
   ],
   "source": [
    "# сводная таблица с количеством заведений в сети и средним количеством посадочных мест в ней\n",
    "chain_yes = data_coord[data_coord['chain']=='да']\\\n",
    ".groupby('object_name')[['number', 'id']].agg({'id':'nunique', 'number':'mean'})\\\n",
    ".sort_values(by = 'id', ascending = False)\n",
    "\n",
    "ax = sns.scatterplot(data = chain_yes, x = 'number', y = 'id')\n",
    "ax.set_yscale('log')\n",
    "ax.set_ylabel('Количество заведений в сети')\n",
    "ax.set_xlabel('Среднее количество посадочных мест')"
   ]
  },
  {
   "cell_type": "markdown",
   "metadata": {},
   "source": [
    "Если выбирать из двух вариантов - много заведений с небольшим числом посадочных мест в каждом или мало заведений с большим количеством посадочных мест - то скорее верно первое, заведений довольно много, а мест в них мало. Среднее количество посадочных мест в сетевом заведении также меньше, чем в несетевом."
   ]
  },
  {
   "cell_type": "markdown",
   "metadata": {},
   "source": [
    "### Среднее количество посадочных мест по видам заведений <a name=\"3.5\"></a>"
   ]
  },
  {
   "cell_type": "code",
   "execution_count": 31,
   "metadata": {},
   "outputs": [
    {
     "data": {
      "text/plain": [
       "<seaborn.axisgrid.FacetGrid at 0x1d6dbc57f48>"
      ]
     },
     "execution_count": 31,
     "metadata": {},
     "output_type": "execute_result"
    },
    {
     "data": {
      "image/png": "[encoded data removed]",
      "text/plain": [
       "<Figure size 1080x360 with 1 Axes>"
      ]
     },
     "metadata": {},
     "output_type": "display_data"
    }
   ],
   "source": [
    "g = sns.catplot(y=\"object_type\", x = 'number', kind=\"box\", data=data_coord, palette=\"Blues_d\", height=5, aspect=3)\n",
    "g.set_ylabels(\"Тип объекта\")\n",
    "g.set_xlabels(\"Посадочные места\")\n",
    "#ax.set_xlim([0, 200])"
   ]
  },
  {
   "cell_type": "code",
   "execution_count": 32,
   "metadata": {},
   "outputs": [
    {
     "data": {
      "text/html": [
       "<div>\n",
       "<style scoped>\n",
       "    .dataframe tbody tr th:only-of-type {\n",
       "        vertical-align: middle;\n",
       "    }\n",
       "\n",
       "    .dataframe tbody tr th {\n",
       "        vertical-align: top;\n",
       "    }\n",
       "\n",
       "    .dataframe thead th {\n",
       "        text-align: right;\n",
       "    }\n",
       "</style>\n",
       "<table border=\"1\" class=\"dataframe\">\n",
       "  <thead>\n",
       "    <tr style=\"text-align: right;\">\n",
       "      <th></th>\n",
       "      <th>count</th>\n",
       "      <th>mean</th>\n",
       "      <th>std</th>\n",
       "      <th>min</th>\n",
       "      <th>25%</th>\n",
       "      <th>50%</th>\n",
       "      <th>75%</th>\n",
       "      <th>max</th>\n",
       "    </tr>\n",
       "    <tr>\n",
       "      <th>object_type</th>\n",
       "      <th></th>\n",
       "      <th></th>\n",
       "      <th></th>\n",
       "      <th></th>\n",
       "      <th></th>\n",
       "      <th></th>\n",
       "      <th></th>\n",
       "      <th></th>\n",
       "    </tr>\n",
       "  </thead>\n",
       "  <tbody>\n",
       "    <tr>\n",
       "      <th>бар</th>\n",
       "      <td>856.0</td>\n",
       "      <td>43.494159</td>\n",
       "      <td>67.082876</td>\n",
       "      <td>0.0</td>\n",
       "      <td>20.0</td>\n",
       "      <td>35.0</td>\n",
       "      <td>50.0</td>\n",
       "      <td>1700.0</td>\n",
       "    </tr>\n",
       "    <tr>\n",
       "      <th>буфет</th>\n",
       "      <td>585.0</td>\n",
       "      <td>51.129915</td>\n",
       "      <td>56.331974</td>\n",
       "      <td>0.0</td>\n",
       "      <td>14.0</td>\n",
       "      <td>32.0</td>\n",
       "      <td>80.0</td>\n",
       "      <td>320.0</td>\n",
       "    </tr>\n",
       "    <tr>\n",
       "      <th>закусочная</th>\n",
       "      <td>360.0</td>\n",
       "      <td>7.608333</td>\n",
       "      <td>16.650912</td>\n",
       "      <td>0.0</td>\n",
       "      <td>0.0</td>\n",
       "      <td>0.0</td>\n",
       "      <td>10.0</td>\n",
       "      <td>216.0</td>\n",
       "    </tr>\n",
       "    <tr>\n",
       "      <th>кафе</th>\n",
       "      <td>6099.0</td>\n",
       "      <td>39.716019</td>\n",
       "      <td>37.720947</td>\n",
       "      <td>0.0</td>\n",
       "      <td>15.0</td>\n",
       "      <td>30.0</td>\n",
       "      <td>50.0</td>\n",
       "      <td>533.0</td>\n",
       "    </tr>\n",
       "    <tr>\n",
       "      <th>кафетерий</th>\n",
       "      <td>398.0</td>\n",
       "      <td>9.123116</td>\n",
       "      <td>14.639150</td>\n",
       "      <td>0.0</td>\n",
       "      <td>0.0</td>\n",
       "      <td>6.0</td>\n",
       "      <td>12.0</td>\n",
       "      <td>200.0</td>\n",
       "    </tr>\n",
       "    <tr>\n",
       "      <th>магазин (отдел кулинарии)</th>\n",
       "      <td>273.0</td>\n",
       "      <td>5.589744</td>\n",
       "      <td>9.872729</td>\n",
       "      <td>0.0</td>\n",
       "      <td>0.0</td>\n",
       "      <td>0.0</td>\n",
       "      <td>8.0</td>\n",
       "      <td>50.0</td>\n",
       "    </tr>\n",
       "    <tr>\n",
       "      <th>предприятие быстрого обслуживания</th>\n",
       "      <td>1923.0</td>\n",
       "      <td>20.552262</td>\n",
       "      <td>38.366974</td>\n",
       "      <td>0.0</td>\n",
       "      <td>0.0</td>\n",
       "      <td>5.0</td>\n",
       "      <td>25.0</td>\n",
       "      <td>580.0</td>\n",
       "    </tr>\n",
       "    <tr>\n",
       "      <th>ресторан</th>\n",
       "      <td>2285.0</td>\n",
       "      <td>96.834136</td>\n",
       "      <td>94.756542</td>\n",
       "      <td>0.0</td>\n",
       "      <td>46.0</td>\n",
       "      <td>80.0</td>\n",
       "      <td>114.0</td>\n",
       "      <td>1500.0</td>\n",
       "    </tr>\n",
       "    <tr>\n",
       "      <th>столовая</th>\n",
       "      <td>2587.0</td>\n",
       "      <td>130.246618</td>\n",
       "      <td>95.179313</td>\n",
       "      <td>0.0</td>\n",
       "      <td>50.0</td>\n",
       "      <td>103.0</td>\n",
       "      <td>200.0</td>\n",
       "      <td>1400.0</td>\n",
       "    </tr>\n",
       "  </tbody>\n",
       "</table>\n",
       "</div>"
      ],
      "text/plain": [
       "                                    count        mean        std  min   25%  \\\n",
       "object_type                                                                   \n",
       "бар                                 856.0   43.494159  67.082876  0.0  20.0   \n",
       "буфет                               585.0   51.129915  56.331974  0.0  14.0   \n",
       "закусочная                          360.0    7.608333  16.650912  0.0   0.0   \n",
       "кафе                               6099.0   39.716019  37.720947  0.0  15.0   \n",
       "кафетерий                           398.0    9.123116  14.639150  0.0   0.0   \n",
       "магазин (отдел кулинарии)           273.0    5.589744   9.872729  0.0   0.0   \n",
       "предприятие быстрого обслуживания  1923.0   20.552262  38.366974  0.0   0.0   \n",
       "ресторан                           2285.0   96.834136  94.756542  0.0  46.0   \n",
       "столовая                           2587.0  130.246618  95.179313  0.0  50.0   \n",
       "\n",
       "                                     50%    75%     max  \n",
       "object_type                                              \n",
       "бар                                 35.0   50.0  1700.0  \n",
       "буфет                               32.0   80.0   320.0  \n",
       "закусочная                           0.0   10.0   216.0  \n",
       "кафе                                30.0   50.0   533.0  \n",
       "кафетерий                            6.0   12.0   200.0  \n",
       "магазин (отдел кулинарии)            0.0    8.0    50.0  \n",
       "предприятие быстрого обслуживания    5.0   25.0   580.0  \n",
       "ресторан                            80.0  114.0  1500.0  \n",
       "столовая                           103.0  200.0  1400.0  "
      ]
     },
     "execution_count": 32,
     "metadata": {},
     "output_type": "execute_result"
    }
   ],
   "source": [
    "data_coord.groupby('object_type')['number'].describe()"
   ]
  },
  {
   "cell_type": "markdown",
   "metadata": {},
   "source": [
    "Самое большое среднее количество посадочных мест - у столовых, второе - у ресторанов, потом идут буфеты, бары и кафе. Интересно, что в большинстве магазинов и закусочных это значение вообще равно нулю."
   ]
  },
  {
   "cell_type": "markdown",
   "metadata": {},
   "source": [
    "### График топ-10 улиц по количеству объектов общественного питания<a name=\"3.6\"></a>"
   ]
  },
  {
   "cell_type": "code",
   "execution_count": 33,
   "metadata": {},
   "outputs": [
    {
     "data": {
      "text/html": [
       "<div>\n",
       "<style scoped>\n",
       "    .dataframe tbody tr th:only-of-type {\n",
       "        vertical-align: middle;\n",
       "    }\n",
       "\n",
       "    .dataframe tbody tr th {\n",
       "        vertical-align: top;\n",
       "    }\n",
       "\n",
       "    .dataframe thead th {\n",
       "        text-align: right;\n",
       "    }\n",
       "</style>\n",
       "<table border=\"1\" class=\"dataframe\">\n",
       "  <thead>\n",
       "    <tr style=\"text-align: right;\">\n",
       "      <th></th>\n",
       "      <th>street</th>\n",
       "      <th>id</th>\n",
       "      <th>rayon</th>\n",
       "    </tr>\n",
       "  </thead>\n",
       "  <tbody>\n",
       "    <tr>\n",
       "      <th>1368</th>\n",
       "      <td>проспект Мира</td>\n",
       "      <td>204</td>\n",
       "      <td>[ Мещанский район,  Останкинский район,  Алексеевский район,  район Ростокино,  район Свиблово,  Ярославский район]</td>\n",
       "    </tr>\n",
       "    <tr>\n",
       "      <th>980</th>\n",
       "      <td>Профсоюзная улица</td>\n",
       "      <td>174</td>\n",
       "      <td>[ Академический район,  район Черёмушки,  Обручевский район,  район Коньково,  район Тёплый Стан,  район Ясенево]</td>\n",
       "    </tr>\n",
       "    <tr>\n",
       "      <th>663</th>\n",
       "      <td>Ленинградский проспект</td>\n",
       "      <td>171</td>\n",
       "      <td>[ район Беговой,  район Аэропорт,  район Сокол,  Хорошёвский район]</td>\n",
       "    </tr>\n",
       "    <tr>\n",
       "      <th>965</th>\n",
       "      <td>Пресненская набережная</td>\n",
       "      <td>167</td>\n",
       "      <td>[ Пресненский район]</td>\n",
       "    </tr>\n",
       "    <tr>\n",
       "      <th>385</th>\n",
       "      <td>Варшавское шоссе</td>\n",
       "      <td>161</td>\n",
       "      <td>[ Донской район,  Нагорный район,  район Чертаново Южное,  район Чертаново Северное,  район Чертаново Центральное,  район Нагатино-Садовники,  район Южное Бутово]</td>\n",
       "    </tr>\n",
       "    <tr>\n",
       "      <th>666</th>\n",
       "      <td>Ленинский проспект</td>\n",
       "      <td>147</td>\n",
       "      <td>[ район Якиманка,  Донской район,  Гагаринский район,  Ломоносовский район,  Обручевский район,  район Тропарёво-Никулино,  район Тёплый Стан,  район Проспект Вернадского]</td>\n",
       "    </tr>\n",
       "    <tr>\n",
       "      <th>1364</th>\n",
       "      <td>проспект Вернадского</td>\n",
       "      <td>131</td>\n",
       "      <td>[ Гагаринский район,  Ломоносовский район,  район Проспект Вернадского,  район Тропарёво-Никулино,  микрорайон Ленинские Горы,  район Раменки]</td>\n",
       "    </tr>\n",
       "    <tr>\n",
       "      <th>654</th>\n",
       "      <td>Кутузовский проспект</td>\n",
       "      <td>114</td>\n",
       "      <td>[ район Фили-Давыдково,  район Дорогомилово]</td>\n",
       "    </tr>\n",
       "    <tr>\n",
       "      <th>579</th>\n",
       "      <td>Каширское шоссе</td>\n",
       "      <td>112</td>\n",
       "      <td>[ район Нагатино-Садовники,  район Москворечье-Сабурово,  район Орехово-Борисово Южное,  район Орехово-Борисово Северное]</td>\n",
       "    </tr>\n",
       "    <tr>\n",
       "      <th>585</th>\n",
       "      <td>Кировоградская улица</td>\n",
       "      <td>110</td>\n",
       "      <td>[ район Чертаново Центральное,  район Чертаново Южное,  район Чертаново Северное]</td>\n",
       "    </tr>\n",
       "  </tbody>\n",
       "</table>\n",
       "</div>"
      ],
      "text/plain": [
       "                       street   id  \\\n",
       "1368            проспект Мира  204   \n",
       "980         Профсоюзная улица  174   \n",
       "663    Ленинградский проспект  171   \n",
       "965    Пресненская набережная  167   \n",
       "385          Варшавское шоссе  161   \n",
       "666        Ленинский проспект  147   \n",
       "1364     проспект Вернадского  131   \n",
       "654      Кутузовский проспект  114   \n",
       "579           Каширское шоссе  112   \n",
       "585      Кировоградская улица  110   \n",
       "\n",
       "                                                                                                                                                                            rayon  \n",
       "1368                                                          [ Мещанский район,  Останкинский район,  Алексеевский район,  район Ростокино,  район Свиблово,  Ярославский район]  \n",
       "980                                                             [ Академический район,  район Черёмушки,  Обручевский район,  район Коньково,  район Тёплый Стан,  район Ясенево]  \n",
       "663                                                                                                           [ район Беговой,  район Аэропорт,  район Сокол,  Хорошёвский район]  \n",
       "965                                                                                                                                                          [ Пресненский район]  \n",
       "385            [ Донской район,  Нагорный район,  район Чертаново Южное,  район Чертаново Северное,  район Чертаново Центральное,  район Нагатино-Садовники,  район Южное Бутово]  \n",
       "666   [ район Якиманка,  Донской район,  Гагаринский район,  Ломоносовский район,  Обручевский район,  район Тропарёво-Никулино,  район Тёплый Стан,  район Проспект Вернадского]  \n",
       "1364                               [ Гагаринский район,  Ломоносовский район,  район Проспект Вернадского,  район Тропарёво-Никулино,  микрорайон Ленинские Горы,  район Раменки]  \n",
       "654                                                                                                                                  [ район Фили-Давыдково,  район Дорогомилово]  \n",
       "579                                                     [ район Нагатино-Садовники,  район Москворечье-Сабурово,  район Орехово-Борисово Южное,  район Орехово-Борисово Северное]  \n",
       "585                                                                                             [ район Чертаново Центральное,  район Чертаново Южное,  район Чертаново Северное]  "
      ]
     },
     "execution_count": 33,
     "metadata": {},
     "output_type": "execute_result"
    }
   ],
   "source": [
    "# сводная таблица - количество заведений на улице и районы для этих улиц\n",
    "street_pivot = data_coord.dropna().groupby('street')[['id', 'rayon']]\\\n",
    ".agg({'id': 'nunique', 'rayon': 'unique'}).reset_index()\n",
    "# топ-10 улиц по количеству заведений - со всеми районами, через которые они проходят\n",
    "top_ten_streets = street_pivot.sort_values(by = 'id', ascending = False).head(10)\n",
    "top_ten_streets"
   ]
  },
  {
   "cell_type": "code",
   "execution_count": 34,
   "metadata": {},
   "outputs": [
    {
     "data": {
      "text/plain": [
       "<seaborn.axisgrid.FacetGrid at 0x1d6db14df88>"
      ]
     },
     "execution_count": 34,
     "metadata": {},
     "output_type": "execute_result"
    },
    {
     "data": {
      "image/png": "[encoded data removed]",
      "text/plain": [
       "<Figure size 720x360 with 1 Axes>"
      ]
     },
     "metadata": {},
     "output_type": "display_data"
    }
   ],
   "source": [
    "#график топ-10 улиц по количеству заведений \n",
    "g=sns.catplot(y=\"street\", x='id', kind='bar',data=top_ten_streets, palette=\"Blues_d\", height=5, aspect=2)\n",
    "g.set_ylabels(\"Улица\")\n",
    "g.set_xlabels(\"Количество объектов общественного питания\")"
   ]
  },
  {
   "cell_type": "markdown",
   "metadata": {},
   "source": [
    "На самом деле, это не \"самые оживленные улицы\", это просто самые длинные улицы - это видно на карте в части про распределение посадочных мест на этих улицах. Самые оживленные места все равно в центре."
   ]
  },
  {
   "cell_type": "markdown",
   "metadata": {},
   "source": [
    "### Улицы с одним объектом общественного питания <a name=\"3.7\"></a>"
   ]
  },
  {
   "cell_type": "code",
   "execution_count": 35,
   "metadata": {},
   "outputs": [
    {
     "data": {
      "text/html": [
       "<div>\n",
       "<style scoped>\n",
       "    .dataframe tbody tr th:only-of-type {\n",
       "        vertical-align: middle;\n",
       "    }\n",
       "\n",
       "    .dataframe tbody tr th {\n",
       "        vertical-align: top;\n",
       "    }\n",
       "\n",
       "    .dataframe thead th {\n",
       "        text-align: right;\n",
       "    }\n",
       "</style>\n",
       "<table border=\"1\" class=\"dataframe\">\n",
       "  <thead>\n",
       "    <tr style=\"text-align: right;\">\n",
       "      <th></th>\n",
       "      <th>street</th>\n",
       "      <th>id</th>\n",
       "      <th>rayon</th>\n",
       "    </tr>\n",
       "  </thead>\n",
       "  <tbody>\n",
       "    <tr>\n",
       "      <th>2</th>\n",
       "      <td>1-й Балтийский переулок</td>\n",
       "      <td>1</td>\n",
       "      <td>[ район Аэропорт]</td>\n",
       "    </tr>\n",
       "    <tr>\n",
       "      <th>3</th>\n",
       "      <td>1-й Басманный переулок</td>\n",
       "      <td>1</td>\n",
       "      <td>[ Красносельский район]</td>\n",
       "    </tr>\n",
       "    <tr>\n",
       "      <th>4</th>\n",
       "      <td>1-й Ботанический проезд</td>\n",
       "      <td>1</td>\n",
       "      <td>[ район Свиблово]</td>\n",
       "    </tr>\n",
       "    <tr>\n",
       "      <th>7</th>\n",
       "      <td>1-й Вешняковский проезд</td>\n",
       "      <td>1</td>\n",
       "      <td>[ Рязанский район]</td>\n",
       "    </tr>\n",
       "    <tr>\n",
       "      <th>9</th>\n",
       "      <td>1-й Голутвинский переулок</td>\n",
       "      <td>1</td>\n",
       "      <td>[ район Якиманка]</td>\n",
       "    </tr>\n",
       "  </tbody>\n",
       "</table>\n",
       "</div>"
      ],
      "text/plain": [
       "                       street  id                    rayon\n",
       "2     1-й Балтийский переулок   1        [ район Аэропорт]\n",
       "3      1-й Басманный переулок   1  [ Красносельский район]\n",
       "4     1-й Ботанический проезд   1        [ район Свиблово]\n",
       "7     1-й Вешняковский проезд   1       [ Рязанский район]\n",
       "9   1-й Голутвинский переулок   1        [ район Якиманка]"
      ]
     },
     "execution_count": 35,
     "metadata": {},
     "output_type": "execute_result"
    }
   ],
   "source": [
    "one_object_streets = street_pivot[street_pivot['id']==1]\n",
    "one_object_streets.head()"
   ]
  },
  {
   "cell_type": "code",
   "execution_count": 36,
   "metadata": {},
   "outputs": [
    {
     "name": "stdout",
     "output_type": "stream",
     "text": [
      "User Guide: https://github.com/keplergl/kepler.gl/blob/master/docs/keplergl-jupyter/user-guide.md\n",
      "Map saved to map_2_one_object.html!\n"
     ]
    }
   ],
   "source": [
    "one_place_per_street = data_coord[data_coord['street'].isin(one_object_streets['street'])]\n",
    "map_2 = KeplerGl(height=500)\n",
    "# распределение улиц с одним заведением на карте\n",
    "map_2.add_data(data=one_place_per_street, name='one_place_per_street')\n",
    "map_2.save_to_html(file_name='map_2_one_object.html')\n"
   ]
  },
  {
   "cell_type": "markdown",
   "metadata": {},
   "source": [
    "Тут тоже дело не в том, что на этих улицах мало мест, а в том, что улицы коротенькие - больше всего таких улиц в центре, как видно на карте."
   ]
  },
  {
   "cell_type": "markdown",
   "metadata": {},
   "source": [
    "### Распределение количества посадочных мест для улиц с большим количеством объектов <a name=\"3.8\"></a>"
   ]
  },
  {
   "cell_type": "code",
   "execution_count": 37,
   "metadata": {},
   "outputs": [],
   "source": [
    "# выборка мест на топ-10 улиц\n",
    "density_places = data_coord[data_coord['street'].isin(top_ten_streets['street'])]"
   ]
  },
  {
   "cell_type": "code",
   "execution_count": 38,
   "metadata": {},
   "outputs": [
    {
     "data": {
      "text/plain": [
       "<matplotlib.axes._subplots.AxesSubplot at 0x1d6dd433888>"
      ]
     },
     "execution_count": 38,
     "metadata": {},
     "output_type": "execute_result"
    },
    {
     "data": {
      "image/png": "[encoded data removed]",
      "text/plain": [
       "<Figure size 432x288 with 1 Axes>"
      ]
     },
     "metadata": {},
     "output_type": "display_data"
    }
   ],
   "source": [
    "sns.distplot(density_places['number'])"
   ]
  },
  {
   "cell_type": "code",
   "execution_count": 39,
   "metadata": {
    "scrolled": true
   },
   "outputs": [
    {
     "data": {
      "text/plain": [
       "count    15366.000000\n",
       "mean        59.547182\n",
       "std         74.736833\n",
       "min          0.000000\n",
       "25%         12.000000\n",
       "50%         40.000000\n",
       "75%         80.000000\n",
       "max       1700.000000\n",
       "Name: number, dtype: float64"
      ]
     },
     "execution_count": 39,
     "metadata": {},
     "output_type": "execute_result"
    }
   ],
   "source": [
    "# распределение для всего датасета\n",
    "data_coord['number'].describe()"
   ]
  },
  {
   "cell_type": "code",
   "execution_count": 40,
   "metadata": {
    "scrolled": true
   },
   "outputs": [
    {
     "data": {
      "text/plain": [
       "count    1503.000000\n",
       "mean       57.966733\n",
       "std        89.982933\n",
       "min         0.000000\n",
       "25%        12.000000\n",
       "50%        40.000000\n",
       "75%        75.000000\n",
       "max      1700.000000\n",
       "Name: number, dtype: float64"
      ]
     },
     "execution_count": 40,
     "metadata": {},
     "output_type": "execute_result"
    }
   ],
   "source": [
    "# распределение для топ-10 улиц\n",
    "density_places['number'].describe()"
   ]
  },
  {
   "cell_type": "code",
   "execution_count": 41,
   "metadata": {},
   "outputs": [],
   "source": [
    "config_3 = {'version': 'v1',\n",
    " 'config': {'visState': {'filters': [],\n",
    "   'layers': [{'id': 'qtangt',\n",
    "     'type': 'point',\n",
    "     'config': {'dataId': 'density_places',\n",
    "      'label': 'Point',\n",
    "      'color': [30, 150, 190],\n",
    "      'columns': {'lat': 'lat', 'lng': 'lon', 'altitude': None},\n",
    "      'isVisible': True,\n",
    "      'visConfig': {'radius': 10,\n",
    "       'fixedRadius': False,\n",
    "       'opacity': 0.8,\n",
    "       'outline': False,\n",
    "       'thickness': 2,\n",
    "       'strokeColor': None,\n",
    "       'colorRange': {'name': 'ColorBrewer PuBu-6',\n",
    "        'type': 'sequential',\n",
    "        'category': 'ColorBrewer',\n",
    "        'colors': ['#f1eef6',\n",
    "         '#d0d1e6',\n",
    "         '#a6bddb',\n",
    "         '#74a9cf',\n",
    "         '#2b8cbe',\n",
    "         '#045a8d']},\n",
    "       'strokeColorRange': {'name': 'Global Warming',\n",
    "        'type': 'sequential',\n",
    "        'category': 'Uber',\n",
    "        'colors': ['#5A1846',\n",
    "         '#900C3F',\n",
    "         '#C70039',\n",
    "         '#E3611C',\n",
    "         '#F1920E',\n",
    "         '#FFC300']},\n",
    "       'radiusRange': [0, 50],\n",
    "       'filled': True},\n",
    "      'textLabel': [{'field': None,\n",
    "        'color': [255, 255, 255],\n",
    "        'size': 18,\n",
    "        'offset': [0, 0],\n",
    "        'anchor': 'start',\n",
    "        'alignment': 'center'}]},\n",
    "     'visualChannels': {'colorField': {'name': 'number', 'type': 'integer'},\n",
    "      'colorScale': 'quantile',\n",
    "      'strokeColorField': None,\n",
    "      'strokeColorScale': 'quantile',\n",
    "      'sizeField': {'name': 'number', 'type': 'integer'},\n",
    "      'sizeScale': 'sqrt'}}],\n",
    "   'interactionConfig': {'tooltip': {'fieldsToShow': {'density_places': ['id',\n",
    "       'object_name',\n",
    "       'chain',\n",
    "       'object_type',\n",
    "       'address']},\n",
    "     'enabled': True},\n",
    "    'brush': {'size': 0.5, 'enabled': False}},\n",
    "   'layerBlending': 'normal',\n",
    "   'splitMaps': [],\n",
    "   'animationConfig': {'currentTime': None, 'speed': 1}},\n",
    "  'mapState': {'bearing': 0,\n",
    "   'dragRotate': False,\n",
    "   'latitude': 55.713231814717574,\n",
    "   'longitude': 37.64091885537051,\n",
    "   'pitch': 0,\n",
    "   'zoom': 9.451941083083048,\n",
    "   'isSplit': False},\n",
    "  'mapStyle': {'styleType': 'dark',\n",
    "   'topLayerGroups': {},\n",
    "   'visibleLayerGroups': {'label': True,\n",
    "    'road': True,\n",
    "    'border': False,\n",
    "    'building': True,\n",
    "    'water': True,\n",
    "    'land': True,\n",
    "    '3d building': False},\n",
    "   'threeDBuildingColor': [9.665468314072013,\n",
    "    17.18305478057247,\n",
    "    31.1442867897876],\n",
    "   'mapStyles': {}}}}"
   ]
  },
  {
   "cell_type": "code",
   "execution_count": 42,
   "metadata": {},
   "outputs": [
    {
     "name": "stdout",
     "output_type": "stream",
     "text": [
      "User Guide: https://github.com/keplergl/kepler.gl/blob/master/docs/keplergl-jupyter/user-guide.md\n",
      "Map saved to map_3_long_streets.html!\n"
     ]
    }
   ],
   "source": [
    "map_3 = KeplerGl(height=500)\n",
    "# распределение количества посадочных мест на улицах с самым большим количеством заведений\n",
    "map_3.add_data(data=density_places, name='density_places')\n",
    "map_3.config = config_3\n",
    "map_3.save_to_html(file_name='map_3_long_streets.html')\n"
   ]
  },
  {
   "cell_type": "markdown",
   "metadata": {},
   "source": [
    "На гистограмме и при применении метода describe видно, что это тот же самый разброс, что и в общем датасете, с примерно одинаковым средним и совпадающей медианой в 40. На карте видно, что количество посадочных мест самое разное и не зависит от положения и близости к центру."
   ]
  },
  {
   "cell_type": "markdown",
   "metadata": {},
   "source": [
    "## Выводы и презентация <a name=\"4\"></a>"
   ]
  },
  {
   "cell_type": "markdown",
   "metadata": {},
   "source": [
    "Оптимальным при открытии кафе представляется следующее:\n",
    "- открывать именно кафе или ресторан, а не бар и не фастфуд\n",
    "- не делать большого заведения (60 посадочных мест - среднее значение по Москве),\n",
    "- постараться открыть кафе в центре внутри Садового кольца или около Нового Арбата/Ленинградского проспекта\n",
    "- не развивать сеть, пока одно кафе не будет успешным, и даже, возможно, после этого не развивать сеть, пусть оно остается уникальным продуктом.\n",
    "\n",
    "А вообще кафе с роботами хорошо бы делать около чего-то подходящего: например, музея [Экспериментаниум](https://experimentanium.ru/). Тогда проблемы с тем, что всем скоро надоест идея, не будет :)"
   ]
  }
 ],
 "metadata": {
  "kernelspec": {
   "display_name": "Python 3",
   "language": "python",
   "name": "python3"
  },
  "language_info": {
   "codemirror_mode": {
    "name": "ipython",
    "version": 3
   },
   "file_extension": ".py",
   "mimetype": "text/x-python",
   "name": "python",
   "nbconvert_exporter": "python",
   "pygments_lexer": "ipython3",
   "version": "3.7.6"
  }
 },
 "nbformat": 4,
 "nbformat_minor": 2
}
